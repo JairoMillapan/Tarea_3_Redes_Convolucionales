{
  "cells": [
    {
      "cell_type": "markdown",
      "metadata": {
        "id": "view-in-github",
        "colab_type": "text"
      },
      "source": [
        "<a href=\"https://colab.research.google.com/github/JairoMillapan/Tarea_3_Redes_Convolucionales/blob/main/Copia_de_2023_2_UOH_COM4402_Tarea_3.ipynb\" target=\"_parent\"><img src=\"https://colab.research.google.com/assets/colab-badge.svg\" alt=\"Open In Colab\"/></a>"
      ]
    },
    {
      "cell_type": "markdown",
      "source": [
        "# Universidad de O'Higgins\n",
        "\n",
        "## Escuela de Ingeniería\n",
        "## COM4402: Introducción a Inteligencia Artificial\n",
        "\n",
        "### **Tarea 3: Redes Neuronales Convolucionales**\n",
        "\n",
        "### Estudiante: Jairo Millapán\n",
        "\n",
        "El objetivo de esta tarea es implementar una Red Neuronal Convolucional que logre clasificar los labels correspondientes a la base de datos de manuscritos MNIST y la base de datos de imágenes pequeñas CIFAR-10. La tarea debe ser realizada en Python usando TensorFlow."
      ],
      "metadata": {
        "id": "sOEWO7Nj2up4"
      }
    },
    {
      "cell_type": "code",
      "execution_count": 1,
      "metadata": {
        "id": "YBcJvhzbktIK"
      },
      "outputs": [],
      "source": [
        "\"\"\"Esta area configura el entorno Jupyter.\n",
        "Por favor, no modifique nada en esta celda.\n",
        "\"\"\"\n",
        "import os\n",
        "import sys\n",
        "import time\n",
        "\n",
        "# Importar módulos diversos\n",
        "from IPython.core.display import display, HTML"
      ]
    },
    {
      "cell_type": "code",
      "source": [
        "import os\n",
        "import numpy as np\n",
        "import tensorflow as tf\n",
        "import random\n",
        "from unittest.mock import MagicMock\n",
        "\n",
        "\n",
        "def _print_success_message():\n",
        "    print('Pruebas superadas.')\n",
        "    print('Puede pasar a la siguiente tarea.')\n",
        "\n",
        "def test_normalize_images(function):\n",
        "    test_numbers = np.array([0,127,255])\n",
        "    OUT = function(test_numbers)\n",
        "    test_shape = test_numbers.shape\n",
        "\n",
        "    assert type(OUT).__module__ == np.__name__,\\\n",
        "        'Not Numpy Object'\n",
        "\n",
        "    assert OUT.shape == test_shape,\\\n",
        "        'Incorrect Shape. {} shape found'.format(OUT.shape)\n",
        "    np.testing.assert_almost_equal(test_numbers/255, OUT)\n",
        "\n",
        "    _print_success_message()\n",
        "\n",
        "def test_one_hot(function):\n",
        "    test_numbers = np.arange(10)\n",
        "    number_classes = 10\n",
        "    OUT = function(test_numbers,number_classes)\n",
        "\n",
        "    awns = np.identity(number_classes)\n",
        "    test_shape = awns.shape\n",
        "\n",
        "    assert type(OUT).__module__ == np.__name__,\\\n",
        "        'Not Numpy Object'\n",
        "\n",
        "    assert OUT.shape == test_shape,\\\n",
        "        'Incorrect Shape. {} shape found'.format(OUT.shape)\n",
        "    np.testing.assert_almost_equal(awns, OUT)\n",
        "\n",
        "    _print_success_message()"
      ],
      "metadata": {
        "id": "qJT769UKlMMl"
      },
      "execution_count": 2,
      "outputs": []
    },
    {
      "cell_type": "markdown",
      "metadata": {
        "id": "a6Nu6sG6ktIM"
      },
      "source": [
        "# Convolutional Neural Networks\n",
        "\n",
        "<div class=\"alert alert-warning\">\n",
        "En este notebook nos familiarizaremos con un tipo de *capa* para redes neuronales artificiales llamadas capas convolucionales. Los datos que intentaremos modelar utilizando este tipo de redes serán imágenes.\n",
        "</div>\n",
        "\n",
        "\n",
        "## Imágenes\n",
        "\n",
        "Para un computador, una imagen es una matriz de datos en la que cada píxel está representado por uno o varios valores:\n",
        "\n",
        "\n",
        "### Matriz con un valor por píxel = imágenes en escala de grises\n",
        "\n",
        "<img src=\"https://www.researchgate.net/publication/330902210/figure/fig1/AS:878026619375622@1586349267376/mage-of-Abraham-Lincoln-as-a-matrix-of-pixel-values.ppm\" alt=\"Grayscale Image\" width=\"700\">[image_source](http://openframeworks.cc/ofBook/chapters/image_processing_computer_vision.html)\n",
        "\n",
        "### Matriz con tres valores por píxel = imágenes en color\n",
        " <img src=\"https://raw.githubusercontent.com/vicolab/neural-network-intro/master/3-convnet/resources/color_images.png\" alt=\"Decomposition of a color image\" width=\"400\">[image_source](https://medium.com/@ageitgey/machine-learning-is-fun-part-3-deep-learning-and-convolutional-neural-networks-f40359318721)"
      ]
    },
    {
      "cell_type": "markdown",
      "metadata": {
        "id": "Dq3kGC3qktIN"
      },
      "source": [
        "# El Dataset MNIST\n",
        "\n",
        "La base de datos MNIST (Modified National Institute of Standards and Technology database) es un problema de clasificación multiclase en el que se nos pide que clasifiquemos un dígito ($0-9$) a partir de una imagen en escala de grises de $28\\times 28$:\n",
        "\n",
        ">La base de datos MNIST de dígitos escritos a mano, disponible en esta página, tiene un conjunto de entrenamiento de 60.000 ejemplos y un conjunto de prueba de 10.000 ejemplos. Es un subconjunto de un conjunto más amplio disponible en NIST. Los dígitos han sido normalizados en tamaño y centrados en una imagen de tamaño fijo.\n",
        "\n",
        ">Es una buena base de datos para las personas que quieren probar técnicas de aprendizaje y métodos de reconocimiento de patrones en datos del mundo real, dedicando un esfuerzo mínimo al preprocesamiento y al formateo.\n",
        "\n",
        "[Fuente](https://www.tensorflow.org/datasets/catalog/mnist?hl=es-419)\n",
        "\n",
        "En el siguiente ejemplo cargaremos datos de MNIST.\n",
        "\n",
        "* **input** $\\rightarrow$ 70000 muestras de vectores\n",
        "    * Cada vector tiene 784 dimensiones\n",
        "    * Aquí se presentan como matrices de $28\\times 28$ $\\rightarrow$ Imágenes en escala de grises\n",
        "* **target** $\\rightarrow$ 70000 enteros que indican un dígito de 0 a 9\n",
        "\n",
        "<div class=\"alert alert-info\">\n",
        "<strong>En el siguiente fragmento de código:</strong>\n",
        "<ul>\n",
        "  <li>Cargaremos la base de datos MNIST</li>\n",
        "  <li>Graficaremos la 5ª muestra del conjunto de entrenamiento</li>\n",
        "</ul>\n",
        "</div>"
      ]
    },
    {
      "cell_type": "code",
      "execution_count": 3,
      "metadata": {
        "id": "cR69OkjKktIN",
        "outputId": "c0567662-2e9b-4cf7-b4a8-d736952e15c0",
        "colab": {
          "base_uri": "https://localhost:8080/",
          "height": 726
        }
      },
      "outputs": [
        {
          "output_type": "stream",
          "name": "stdout",
          "text": [
            "Downloading data from https://storage.googleapis.com/tensorflow/tf-keras-datasets/mnist.npz\n",
            "11490434/11490434 [==============================] - 0s 0us/step\n",
            "Shape of x_train (60000, 28, 28)\n",
            "Shape of y_train (60000,)\n",
            "Shape of x_test (60000, 28, 28)\n",
            "Shape of y_test (60000,)\n"
          ]
        },
        {
          "output_type": "display_data",
          "data": {
            "text/plain": [
              "<Figure size 700x700 with 1 Axes>"
            ],
            "image/png": "[encoded data removed]"
          },
          "metadata": {}
        }
      ],
      "source": [
        "# Los gráficos se mostrarán dentro del Jupyter Notebook\n",
        "import matplotlib.pyplot as plt\n",
        "from matplotlib.ticker import MaxNLocator\n",
        "\n",
        "# NumPy es un paquete para manipular objetos de matriz de N dimensiones\n",
        "import numpy as np\n",
        "\n",
        "# Pandas es un paquete de análisis de datos\n",
        "import pandas as pd\n",
        "\n",
        "# Mnist wrapper\n",
        "from keras.datasets import mnist\n",
        "\n",
        "# Código para cargar la base de datos MNIST\n",
        "(x_train, y_train), (x_test, y_test) = mnist.load_data()\n",
        "\n",
        "# Imprimir la dimensionalidad de los datos\n",
        "print('Shape of x_train {}'.format(x_train.shape))\n",
        "print('Shape of y_train {}'.format(y_train.shape))\n",
        "print('Shape of x_test {}'.format(x_train.shape))\n",
        "print('Shape of y_test {}'.format(y_train.shape))\n",
        "\n",
        "\n",
        "# Código para graficar la 5ª muestra del conjunto de entrenamiento\n",
        "fig,ax1 = plt.subplots(1,1, figsize=(7, 7))\n",
        "\n",
        "ax1.imshow(x_train[5], cmap='gray')\n",
        "title = 'Target = {}'.format(y_train[5])\n",
        "ax1.set_title(title)\n",
        "ax1.grid(which='Major')\n",
        "ax1.xaxis.set_major_locator(MaxNLocator(28))\n",
        "ax1.yaxis.set_major_locator(MaxNLocator(28))\n",
        "fig.canvas.draw()\n",
        "time.sleep(0.1)"
      ]
    },
    {
      "cell_type": "markdown",
      "metadata": {
        "id": "8-EWrj3AktIO"
      },
      "source": [
        "## Preprocesamiento de datos\n",
        "\n",
        "Antes de empezar a clasificar los dígitos, tenemos que preprocesar los datos.\n",
        "\n",
        "La primera tarea es crear una función que normalice las imágenes de 8 bits de [0,255] a [0,1]:\n",
        "\n",
        "\n",
        "### Parte I:  Implementar una Función de Normalización de Imágenes\n",
        "<div class=\"alert alert-success\">\n",
        "**Tarea**: Implementar una función que normalice las imágenes al intervalo [0,1].\n",
        "<ul>\n",
        "  <li>Las entradas son números enteros en el intervalo [0,255]</li>\n",
        "  <li>Las salidas deben ser flotantes en el intervalo [0,1]</li>\n",
        "</ul>\n",
        "</div>"
      ]
    },
    {
      "cell_type": "code",
      "execution_count": 4,
      "metadata": {
        "id": "kWPxDG9TktIO",
        "outputId": "1c79635b-685e-42c4-ff5e-f2a700436ece",
        "colab": {
          "base_uri": "https://localhost:8080/"
        }
      },
      "outputs": [
        {
          "output_type": "stream",
          "name": "stdout",
          "text": [
            "Pruebas superadas.\n",
            "Puede pasar a la siguiente tarea.\n"
          ]
        }
      ],
      "source": [
        "def normalize_images(images):\n",
        "    \"\"\"Normalizar las imágenes de entrada.\n",
        "    \"\"\"\n",
        "    images = images/255.0\n",
        "\n",
        "    return images\n",
        "\n",
        "### *No* modificar las siguientes líneas ###\n",
        "test_normalize_images(normalize_images)\n",
        "\n",
        "# Normalizar los datos para su uso futuro\n",
        "x_train = normalize_images(x_train)\n",
        "x_test = normalize_images(x_test)"
      ]
    },
    {
      "cell_type": "markdown",
      "metadata": {
        "id": "clwDIT2lktIO"
      },
      "source": [
        "### Parte II:  Ampliar la dimensión de la entrada\n",
        "\n",
        "Cuando cargamos el conjunto de datos MNIST, cada dígito estaba representado por una matriz de tamaño $(28, 28)$. Sin embargo, la red neuronal artificial que vamos a construir utiliza el concepto de canales de color y mapas de características incluso para las imágenes en escala de grises. Esto significa que tenemos que transformar $(28, 28)$ en $(28, 28, 1)$.\n",
        "\n",
        "<div class=\"alert alert-success\">\n",
        "**Tarea**: Escribir una pieza de código que añada una nueva dimensión a `x_train` y `x_test`.\n",
        "<ul>\n",
        "  <li>La dimensionalidad de `x_train` debe ser $(60000, 28, 28, 1)$</li>\n",
        "  <li>La dimensionalidad de `x_test` debe ser $(10000, 28, 28, 1)$</li>\n",
        "</ul>\n",
        "    \n",
        "Echa un vistazo en [numpy.expand_dims()](https://docs.scipy.org/doc/numpy/reference/generated/numpy.expand_dims.html) para saber cómo se puede hacer esto.   \n",
        "</div>"
      ]
    },
    {
      "cell_type": "code",
      "execution_count": 5,
      "metadata": {
        "id": "5icwJcPpktIP",
        "colab": {
          "base_uri": "https://localhost:8080/"
        },
        "outputId": "6906a700-41b6-439c-b943-b5aba056e046"
      },
      "outputs": [
        {
          "output_type": "stream",
          "name": "stdout",
          "text": [
            "Shape of x_train (60000, 28, 28, 1)\n",
            "Shape of y_train (60000,)\n",
            "Shape of x_test (10000, 28, 28, 1)\n",
            "Shape of y_test (10000,)\n"
          ]
        }
      ],
      "source": [
        "# Escribe aquí tu código\n",
        "x_train = np.expand_dims(x_train, axis=-1)\n",
        "x_test = np.expand_dims(x_test, axis=-1)\n",
        "\n",
        "### *No* modifique las siguientes lineas ###\n",
        "print('Shape of x_train {}'.format(x_train.shape))\n",
        "print('Shape of y_train {}'.format(y_train.shape))\n",
        "print('Shape of x_test {}'.format(x_test.shape))\n",
        "print('Shape of y_test {}'.format(y_test.shape))"
      ]
    },
    {
      "cell_type": "markdown",
      "metadata": {
        "id": "1Bzxb7huktIP"
      },
      "source": [
        "## Preprocesamiento de los labels\n",
        "\n",
        "Para clasificar nuestros dígitos tenemos que utilizar one-hot encoding para representar las salidas de los objetivos. One-hot encoding es una solución robusta y sencilla para representar objetivos multicategóricos.\n",
        "\n",
        "Esta codificación es una representación ideal para entrenar un modelo mediante el algoritmo de descenso de gradiente con la [función softmax](http://www.cs.toronto.edu/~guerzhoy/321/lec/W04/onehot.pdf).\n",
        "\n",
        "### Ejemplo de one-hot encoding\n",
        "\n",
        "Este es un ejemplo de cómo es un esquema de one-hot encoding:\n",
        "\n",
        "$$\n",
        "\\begin{equation*}\n",
        "\\mathbf{y} =\n",
        "\\left[ \\begin{array}{c} 2 \\\\ 8 \\\\ 0 \\\\ 6 \\\\ \\vdots\\end{array} \\right]\n",
        "\\Longrightarrow\n",
        "\\begin{bmatrix}\n",
        "  0 & 0 & 1 & 0 & 0 & 0 & 0 & 0 & 0 & 0\\\\\n",
        "  0 & 0 & 0 & 0 & 0 & 0 & 0 & 0 & 1 & 0\\\\\n",
        "  1 & 0 & 0 & 0 & 0 & 0 & 0 & 0 & 0 & 0\\\\\n",
        "  0 & 0 & 0 & 0 & 0 & 0 & 1 & 0 & 0 & 0\\\\\n",
        "  \\vdots & \\vdots & \\vdots & \\vdots & \\vdots & \\vdots & \\vdots & \\vdots & \\vdots & \\vdots\n",
        "\\end{bmatrix}\n",
        "\\end{equation*}\n",
        "$$\n",
        "\n",
        "En el lado izquierdo tenemos un vector de etiquetas objetivo $\\mathbf{y}$ con $K=10$ número de clases. En el lado derecho podemos ver la versión codificada one-hot del vector $\\mathbf{y}$ donde cada elemento $\\in \\mathbf{y}$ se ha transformado en un vector de filas $K$-dimensional. Sólo el elemento $\\mathbf{y}_i$ se ha fijado en 1, el resto son 0. Por ejemplo, el primer elemento de $\\mathbf{y}$ es 2, lo que significa que el vector codificado en un punto será todo ceros excepto la posición 2 (indexación 0). Del mismo modo, el tercer elemento de $\\mathbf{y}$ es 0, lo que significa que el vector codificado one-hot será todos los ceros a excepción de la posición 0.\n",
        "\n",
        "La idea central es transformar los datos multicategóricos en una combinación de varias clases simples. Al hacer esto podemos, para cada ejemplo, ver si pertenece a alguna clase, donde 1 indica que sí y 0 en caso contrario.\n",
        "\n",
        "\n",
        "### Parte 3:  Implemente una función para One-Hot Encoding\n",
        "\n",
        "<div class=\"alert alert-success\">\n",
        "**Tarea**: Implementar una función que codifique un vector de números en una matriz de $K$ clases:\n",
        "<ul>\n",
        "  <li>El primer argumento es un vector con $N$ muestras (dimensiones)</li>\n",
        "  <li>El segundo argumento es un número $K$ que significa el número de clases</li>\n",
        "  <li>Para cada muestra del vector se creará un array con $K$ dimensiones</li>\n",
        "  <li>La matriz codificada one-hot debe tener ceros en todas las posiciones excepto en la posición indicada por la muestra actual en el vector de entrada</li>\n",
        "</ul>\n",
        "</div>\n",
        "\n",
        "* Intenta implementar esta función por ti mismo. Si tienes dudas, pide ayuda\n",
        "* Si te quedas sin tiempo, utiliza `keras.utils.to_categorical(vector, number_classes)`"
      ]
    },
    {
      "cell_type": "code",
      "execution_count": 6,
      "metadata": {
        "id": "VyL7tvVKktIP",
        "colab": {
          "base_uri": "https://localhost:8080/"
        },
        "outputId": "128193e4-643d-4f1b-a9f2-ca9956720399"
      },
      "outputs": [
        {
          "output_type": "stream",
          "name": "stdout",
          "text": [
            "Pruebas superadas.\n",
            "Puede pasar a la siguiente tarea.\n"
          ]
        }
      ],
      "source": [
        "def one_hot(vector, number_classes):\n",
        "    \"\"\"Devuelve una matriz codificada one-hot dado el vector argumento.\n",
        "    \"\"\"\n",
        "    # Aquí almacenaremos nuestros one-hots\n",
        "    one_hot = []\n",
        "\n",
        "    for sample in vector:\n",
        "        encoded_sample = np.zeros(number_classes)\n",
        "        encoded_sample[sample] = 1\n",
        "        one_hot.append(encoded_sample)\n",
        "\n",
        "    # Transformamos la lista en una matriz numpy y la retornamos\n",
        "    return np.array(one_hot)\n",
        "\n",
        "\n",
        "### *No* modifique las siguientes lineas ###\n",
        "test_one_hot(one_hot)\n",
        "\n",
        "# One-hot codifica los labels de MNIST\n",
        "y_train = one_hot (y_train, 10)\n",
        "y_test = one_hot(y_test, 10)"
      ]
    },
    {
      "cell_type": "markdown",
      "metadata": {
        "id": "9otf8JgRktIQ"
      },
      "source": [
        "Ahora que hemos añadido una dimensión adicional a los datos de entrada y que hemos codificado los valores objetivo como one-hot, vamos a ver las formas de las matrices de datos."
      ]
    },
    {
      "cell_type": "code",
      "execution_count": 7,
      "metadata": {
        "id": "uq2sjafMktIQ",
        "colab": {
          "base_uri": "https://localhost:8080/"
        },
        "outputId": "1325013f-dc08-466f-87b5-218bad50cb0a"
      },
      "outputs": [
        {
          "output_type": "stream",
          "name": "stdout",
          "text": [
            "Shape of x_train (60000, 28, 28, 1)\n",
            "Shape of y_train (60000, 10)\n",
            "Shape of x_test (60000, 28, 28, 1)\n",
            "Shape of y_test (60000, 10)\n"
          ]
        }
      ],
      "source": [
        "print('Shape of x_train {}'.format(x_train.shape))\n",
        "print('Shape of y_train {}'.format(y_train.shape))\n",
        "print('Shape of x_test {}'.format(x_train.shape))\n",
        "print('Shape of y_test {}'.format(y_train.shape))"
      ]
    },
    {
      "cell_type": "markdown",
      "metadata": {
        "id": "2STrOaQAktIQ"
      },
      "source": [
        "# Construir una Red Neuronal Artificial con Convoluciones y Max-Pooling\n",
        "\n",
        "\n",
        "## Convoluciones\n",
        "\n",
        "Si tienes un clasificador que consiste en reconocer gatos en una imagen, es posible que se quiera reconocer/clasificar al animal independientemente de su posición. Para ello, nos basamos en un hecho estadístico: las imágenes naturales son estacionarias [source](http://deeplearning.stanford.edu/wiki/index.php/Feature_extraction_using_convolution).\n",
        "\n",
        "Por lo tanto, si calculamos una estadística para algún lugar de la imagen de entrada, entonces esa estadística también podría ser valiosa para calcularla en algún otro lugar. Se puede aprovechar esta propiedad para definir pequeñas redes que aprendan características que puedan aplicarse a diferentes partes de una imagen.\n",
        "\n",
        "Las redes neuronales convolucionales emplean estos aspectos para crear redes neuronales muy eficaces.\n",
        "\n",
        "Si quiere ver un vídeo corto (con subtítulos) que explica los conceptos de las redes convolucionales, consulte el siguiente enlace de YouTube:\n",
        "\n",
        "* [Udacity - Convolutional Networks](https://www.youtube.com/watch?v=jajksuQW4mc)"
      ]
    },
    {
      "cell_type": "markdown",
      "metadata": {
        "id": "WfLmBUIfktIQ"
      },
      "source": [
        "### Sliding windows (ventanas deslizantes)\n",
        "\n",
        "Una ventana deslizante define una pequeña región de interés en una imagen.\n",
        "\n",
        "La región de interés se utiliza para escanear toda la imagen, como se muestra en la siguiente animación:\n",
        "\n",
        "<img src=\"https://pyimagesearch.com/wp-content/uploads/2014/10/sliding_window_example.gif\" alt=\"Sliding window on a greyscale image\" width=\"200\">\n",
        "\n",
        "\n",
        "Si utilizamos la ventana deslizante para definir cuál es la entrada que ve una pequeña red neuronal, tenemos la llamada convolución.\n",
        "\n",
        "\n",
        "Suponiendo que tenemos una imagen en color, y una pequeña red neuronal con $k$ salidas: para cada posición posible de la ventana deslizante tendremos $k$ salidas.\n",
        "\n",
        "\n",
        "<img src=\"https://raw.githubusercontent.com/vicolab/neural-network-intro/master/3-convnet/resources/conv.png\" alt=\"Output of a convolution at for a given sliding window placement\" width=\"300\">\n",
        "\n",
        "\n",
        "Una vez que la ventana deslizante ha escaneado toda la imagen, se obtiene una matriz tridimensional que puede investigarse más a fondo.\n",
        "\n",
        "\n",
        "<img src=\"https://raw.githubusercontent.com/vicolab/neural-network-intro/master/3-convnet/resources/conv2.png\" alt=\"Output of a convolution at for a given sliding window placement\" width=\"300\">"
      ]
    },
    {
      "cell_type": "markdown",
      "metadata": {
        "collapsed": true,
        "id": "W6aaCNSRktIQ"
      },
      "source": [
        "### Ejemplo de Convolución\n",
        "\n",
        "\n",
        "Supongamos que tenemos una imagen de $5 \\times 5=25$ píxeles:\n",
        "\n",
        "$$\n",
        "\\begin{equation*}\n",
        "\\begin{array}{|c|c|c|c|c|}\n",
        "  \\hline\n",
        "  1 & 1 & 1 & 0 & 0 \\\\\n",
        "  \\hline\n",
        "  0 & 1 & 1 & 1 & 0\\\\\n",
        "  \\hline\n",
        "  0 & 0 & 1 & 1 & 1\\\\\n",
        "  \\hline\n",
        "  0 & 0 & 1 & 1 & 0\\\\\n",
        "  \\hline\n",
        "  0 & 1 & 1 & 0 & 0\\\\\n",
        "  \\hline\n",
        "\\end{array}\n",
        "\\end{equation*}\n",
        "$$\n",
        "\n",
        "Supongamos que definimos una pequeña red neuronal que tiene pesos de $3 \\times 3$ y una única salida.\n",
        "La matriz de pesos es\n",
        "\n",
        "$$\n",
        "\\begin{equation*}\n",
        "\\begin{array}{|c|c|c|}\n",
        "  \\hline\n",
        "  1 & 0 & 1 \\\\\n",
        "  \\hline\n",
        "  0 & 1 & 0\\\\\n",
        "  \\hline\n",
        "  1 & 0 & 1\\\\\n",
        "  \\hline\n",
        "\\end{array}\n",
        "\\end{equation*}\n",
        "$$\n",
        "\n",
        "Al alimentar la red utilizando una ventana deslizante de $3 \\times 3$ obtenemos las siguientes características convolucionadas (también conocidas como mapa de características):\n",
        "\n",
        "$$\n",
        "\\begin{equation*}\n",
        "\\begin{array}{|c|c|c|}\n",
        "  \\hline\n",
        "  4 & 3 & 4 \\\\\n",
        "  \\hline\n",
        "  2 & 4 & 3\\\\\n",
        "  \\hline\n",
        "  2 & 3 & 4\\\\\n",
        "  \\hline\n",
        "\\end{array}\n",
        "\\end{equation*}\n",
        "$$\n",
        "\n",
        "\n",
        "<img src=\"https://raw.githubusercontent.com/vicolab/neural-network-intro/master/3-convnet/resources/Convolution_schematic.gif\" alt=\"Sliding window\" width=\"500\">\n",
        "\n",
        "[source](http://deeplearning.stanford.edu/wiki/index.php/Feature_extraction_using_convolution)\n",
        "\n",
        "El número de los llamados *mapas de características* producidos dependerá del número de salidas de la red neuronal. En este caso sólo tenemos un mapa de características.\n",
        "\n",
        "\n",
        "#### Stride y Padding\n",
        "\n",
        "Podemos utilizar padding y strides para controlar el tamaño de los mapas de características. A continuación se presentan cuatro animaciones que muestran la operación de convolución en una matriz de entrada utilizando diferentes paddings y strides:\n",
        "\n",
        "<table style=\"width:100%\">\n",
        "  <tr>\n",
        "    <td><img src=\"https://upload.wikimedia.org/wikipedia/commons/6/6c/Convolution_arithmetic_-_No_padding_no_strides.gif\" width=\"400\"></td>\n",
        "    <td><img src=\"https://upload.wikimedia.org/wikipedia/commons/b/b9/Convolution_arithmetic_-_No_padding_strides.gif\" width=\"400\"></td>\n",
        "    <td><img src=\"https://upload.wikimedia.org/wikipedia/commons/e/ee/Convolution_arithmetic_-_Same_padding_no_strides.gif\" width=\"400\"></td>\n",
        "    <td><img src=\"https://upload.wikimedia.org/wikipedia/commons/0/04/Convolution_arithmetic_-_Padding_strides.gif\" width=\"400\"></td>\n",
        "  </tr>\n",
        "  <tr>\n",
        "    <td>$padding = 0\\qquad stride = 1$</td>\n",
        "    <td>$padding = 0\\qquad stride = 2$</td>\n",
        "    <td>$padding = 1\\qquad stride = 1$</td>\n",
        "    <td>$padding = 1\\qquad stride = 2$</td>\n",
        "  </tr>\n",
        "</table>\n",
        "\n",
        "[source](https://github.com/vdumoulin/conv_arithmetic), [paper](https://arxiv.org/abs/1603.07285)\n",
        "\n",
        "En el caso de las imágenes, *padding* se traduce en el número de píxeles nuevos que introducimos alrededor del borde de una imagen, mientras que *stride* es la distancia a la que se desplaza el núcleo de convolución después de cada aplicación.\n",
        "\n",
        "Terminología menor vista en ciertos tipos de literatura:\n",
        "\n",
        "* **Padding válido** equivale a zero padding\n",
        "* **Mismo padding** significa que el padding utilizado es una función del tamaño del kernel para que el tamaño de salida tenga el mismo tamaño que el de entrada\n",
        "\n",
        "\n",
        "### Cálculo del tamaño de las convoluciones\n",
        "\n",
        "Para calcular el tamaño del mapa de características resultante de una convolución necesitamos conocer el tamaño de la entrada, el tamaño del núcleo (filtro), el stride y el padding:\n",
        "\n",
        "$$\n",
        "\\begin{equation*}\n",
        "output = \\frac{1}{stride} (input -  kernel + 2 * padding) + 1\n",
        "\\end{equation*}\n",
        "$$\n",
        "\n",
        "En el caso de las entradas bidimensionales, la altura y la anchura se pueden calcular así:\n",
        "\n",
        "$$\n",
        "\\begin{equation*}\n",
        "height_{new} =  \\frac{1}{stride} (height_{input} - height_{kernel} + 2 * padding)+1\n",
        "\\end{equation*}\n",
        "$$\n",
        "<br class=\"math\" />\n",
        "$$\n",
        "\\begin{equation*}\n",
        "widht_{new} =  \\frac{1}{stride} (widht_{input} - widht_{kernel} + 2 * padding)+1\n",
        "\\end{equation*}\n",
        "$$\n",
        "\n",
        "\n",
        "#### Ejemplo :\n",
        "\n",
        "Supongamos que tenemos una imagen de $6 \\times 6$. Si rellenamos esta imagen con un solo píxel y luego la convolucionamos con un núcleo de $3 \\times 3$ utilizando un stride de $2$, obtenemos el siguiente mapa de características (feature map) de $3 \\times 3$:\n",
        "\n",
        "<img src=\"https://raw.githubusercontent.com/vicolab/neural-network-intro/master/3-convnet/resources/odd.gif\" alt=\"Examples math\" width=\"300\">\n",
        "\n",
        "Podemos calcular el tamaño de salida utilizando las ecuaciones anteriores:\n",
        "\n",
        "$$\n",
        "\\begin{equation*}\n",
        "\\begin{aligned}\n",
        "height_{new} &= \\frac{1}{stride} (height_{input} - height_{kernel} + 2 * padding) + 1 \\\\\n",
        "&= \\frac{1}{2} (6 - 3 + 2 * 1) + 1 \\\\\n",
        "&= \\frac{1}{2}(5)+1 \\\\\n",
        "&= 3\n",
        "\\end{aligned}\n",
        "\\end{equation*}\n",
        "$$\n",
        "* Observe que redondeamos los números flotantes, por lo que pasamos de 3,5 a 3."
      ]
    },
    {
      "cell_type": "markdown",
      "metadata": {
        "id": "UR7sr9F1ktIR"
      },
      "source": [
        "## Pooling\n",
        "\n",
        "Se ha convertido en una práctica común el uso de la capa de pooling entre las capas convolucionales.\n",
        "\n",
        "Las redes neuronales convolucionales exitosas como [alexnet](https://papers.nips.cc/paper/4824-imagenet-classification-with-deep-convolutional-neural-networks), [VGG16, VGG19](https://arxiv.org/abs/1409.1556) emplean esta técnica.\n",
        "\n",
        "Las capas de pooling también dependen de las ventanas deslizantes, pero en lugar de utilizar la ventana como entradas para las neuronas, los datos de entrada deslizantes pasan por un operador `max`, `mean` o algún otro.\n",
        "\n",
        "### Un ejemplo de Max-Pooling\n",
        "\n",
        "<img src=\"https://raw.githubusercontent.com/vicolab/neural-network-intro/master/3-convnet/resources/pooling.gif\" alt=\"Max Pooling\" width=\"300\">\n",
        "\n",
        "El max-pooling tiene varias ventajas:\n",
        "* Si tiene imágenes en las que la misma clase tiene imágenes similares con pequeños desplazamientos en la posición de los píxeles, el max pooling mitigará las pequeñas traslaciones.\n",
        "* Introduce zero parameters en el modelo, ya que los operadores de máxima y media son funciones fijas que no dependen de los pesos\n",
        "* Reduce la cantidad de datos que hay que procesar en la siguiente capa, asegurando al mismo tiempo cierta invariabilidad de la traslación de los píxeles.\n",
        "* Se utilizan normalmente con zero padding (también conocido padding válido).\n",
        "* Siguen la misma matemática dimensional que las convoluciones\n",
        "\n",
        "[Puede leer más sobre los operadores de pooling aquí](http://cs231n.github.io/convolutional-networks/#pool)"
      ]
    },
    {
      "cell_type": "markdown",
      "metadata": {
        "id": "Xn8Ks4nQktIR"
      },
      "source": [
        "## Implementando una Red Convolucional\n",
        "\n",
        "Implementaremos la siguiente CNN:\n",
        "\n",
        "<img src=\"https://raw.githubusercontent.com/vicolab/neural-network-intro/master/3-convnet/resources/mnist_net.png\" alt=\"CNN\" width=\"1280\">\n",
        "\n",
        "Los componentes de esta red pueden verse a continuación:\n",
        "\n",
        "Defina una entrada:\n",
        "\n",
        "* `input_x = Input(shape=sample_shape)`\n",
        "* `sample_shape` es un parámetro de entrada\n",
        "    \n",
        "Genere 32 kernel maps utilizando una capa convolucional:\n",
        "\n",
        "* La convolución utiliza un kernel de $3 \\times 3$, stride 1, zero padding, y una función de activación [ReLU](https://en.wikipedia.org/wiki/Rectifier_(neural_networks)\n",
        "* Utilice [Conv2D](https://keras.io/layers/convolutional/) desde la librería Keras\n",
        "* `output_layer = Conv2D(PARAMETERS)(input_layer)`\n",
        "    \n",
        "Genere 64 kernel maps utilizando una capa convolucional:\n",
        "\n",
        "* La convolución utiliza un kernel de $3 \\times 3$, stride 1, zero padding, y una función de activación [ReLU]\n",
        "* Utilice [Conv2D](https://keras.io/layers/convolutional/)\n",
        "* `output_layer = Conv2D(PARAMETERS)(input_layer)`\n",
        "\n",
        "Reduzca los feature maps utilizando max-pooling:\n",
        "\n",
        "* La capa max-pooling debe utilizar un kernel de $2 \\times 2$, stride `None`, y zero padding\n",
        "* Utilice [MaxPooling2D](https://keras.io/layers/pooling/#maxpooling2d)\n",
        "* `output_layer = MaxPooling2D(PARAMETERS)(input_layer)`\n",
        "\n",
        "Aplane el feature map:\n",
        "\n",
        "* [Flatten](https://keras.io/layers/core/#flatten)\n",
        "\n",
        "Capa fully-connected, i.e. `Dense`, a 128 dimensiones:\n",
        "\n",
        "* Función de activación [ReLU](https://en.wikipedia.org/wiki/Rectifier_(neural_networks)\n",
        "* [Dense](https://keras.io/layers/core/#dense)\n",
        "\n",
        "Capa fully-connected, i.e. `Dense`, a $K$ clases (argumento) dimensiones:\n",
        "\n",
        "* Función de activación [Softmax](https://en.wikipedia.org/wiki/Softmax_function)\n",
        "* [Dense](https://keras.io/layers/core/#dense)\n",
        "\n",
        "\n",
        "### Parte IV:  Implemente una Convolutional Neural Network\n",
        "\n",
        "Es hora de implementar nuestra primera red neuronal convolucional.\n",
        "\n",
        "<div class=\"alert alert-success\">\n",
        "<strong>Tarea:</strong> Cree una función `net_1()` que implemente la red especificada anteriormente.\n",
        "</div>"
      ]
    },
    {
      "cell_type": "code",
      "execution_count": 8,
      "metadata": {
        "id": "ohigxWMPktIR"
      },
      "outputs": [],
      "source": [
        "# Importar la librería Keras\n",
        "import keras\n",
        "from keras.models import Model\n",
        "from keras.layers import *\n",
        "\n",
        "\n",
        "def net_1(sample_shape, nb_classes):\n",
        "    input_x = Input(shape=sample_shape)\n",
        "\n",
        "    conv1 = Conv2D(32, (3, 3), strides=(1, 1), padding='same', activation='relu')(input_x)\n",
        "    conv2 = Conv2D(64, (3, 3), strides=(1, 1), padding='same', activation='relu')(conv1)\n",
        "    max_pooling = MaxPooling2D((2, 2), padding='same')(conv2)\n",
        "    x = Flatten()(max_pooling)\n",
        "    probabilities = Dense(nb_classes, activation='softmax')(x)\n",
        "\n",
        "    # Defina la salida\n",
        "    model = Model(inputs=input_x, outputs=probabilities)\n",
        "\n",
        "    return model"
      ]
    },
    {
      "cell_type": "markdown",
      "metadata": {
        "id": "hOEKWKGJktIR"
      },
      "source": [
        "<div class=\"alert alert-info\">\n",
        "  <strong>En el siguiente fragmento de código</strong>\n",
        "<ul>\n",
        "  <li>Crearemos una red utilizando la función que acabas de implementar</li>\n",
        "  <li>Mostrar un resumen de la red</li>\n",
        "</ul>\n",
        "</div>"
      ]
    },
    {
      "cell_type": "code",
      "execution_count": 9,
      "metadata": {
        "id": "W4fIdEWmktIR",
        "colab": {
          "base_uri": "https://localhost:8080/"
        },
        "outputId": "06d9343e-b488-41a4-cb69-ced0005dadec"
      },
      "outputs": [
        {
          "output_type": "stream",
          "name": "stdout",
          "text": [
            "Model: \"model\"\n",
            "_________________________________________________________________\n",
            " Layer (type)                Output Shape              Param #   \n",
            "=================================================================\n",
            " input_1 (InputLayer)        [(None, 28, 28, 1)]       0         \n",
            "                                                                 \n",
            " conv2d (Conv2D)             (None, 28, 28, 32)        320       \n",
            "                                                                 \n",
            " conv2d_1 (Conv2D)           (None, 28, 28, 64)        18496     \n",
            "                                                                 \n",
            " max_pooling2d (MaxPooling2  (None, 14, 14, 64)        0         \n",
            " D)                                                              \n",
            "                                                                 \n",
            " flatten (Flatten)           (None, 12544)             0         \n",
            "                                                                 \n",
            " dense (Dense)               (None, 10)                125450    \n",
            "                                                                 \n",
            "=================================================================\n",
            "Total params: 144266 (563.54 KB)\n",
            "Trainable params: 144266 (563.54 KB)\n",
            "Non-trainable params: 0 (0.00 Byte)\n",
            "_________________________________________________________________\n"
          ]
        }
      ],
      "source": [
        "# Dimensión de la muestra\n",
        "sample_shape = x_train[0].shape\n",
        "\n",
        "# Construir una red\n",
        "model = net_1(sample_shape, 10)\n",
        "model.summary()"
      ]
    },
    {
      "cell_type": "markdown",
      "metadata": {
        "id": "tnwrkMN9ktIR"
      },
      "source": [
        "### Parte V: Definir los Hiperparámetros y entrenar la red\n",
        "\n",
        "Tenemos que definir los hiperparámetros para que nuestra red pueda aprender.\n",
        "\n",
        "<div class=\"alert alert-success\">\n",
        "\n",
        "<strong>Tarea:</strong> Afina los hiperparámetros hasta que su `loss` y `val_loss` converjan a números bajos:\n",
        "   \n",
        "<ul>\n",
        "  <li>Tamaño de batch</li>\n",
        "  <li>Número de épocas de entrenamiento</li>\n",
        "</ul>\n",
        "</div>\n"
      ]
    },
    {
      "cell_type": "code",
      "execution_count": 10,
      "metadata": {
        "id": "72wllVqLktIR",
        "colab": {
          "base_uri": "https://localhost:8080/",
          "height": 1000
        },
        "outputId": "61653a2e-5957-4864-a254-5050a89cc911"
      },
      "outputs": [
        {
          "output_type": "stream",
          "name": "stdout",
          "text": [
            "Epoch 1/50\n",
            "1000/1000 - 16s - loss: 2.2697 - accuracy: 0.2011 - val_loss: 2.2258 - val_accuracy: 0.3725 - 16s/epoch - 16ms/step\n",
            "Epoch 2/50\n",
            "1000/1000 - 5s - loss: 2.1787 - accuracy: 0.4754 - val_loss: 2.1100 - val_accuracy: 0.6093 - 5s/epoch - 5ms/step\n",
            "Epoch 3/50\n",
            "1000/1000 - 4s - loss: 2.0355 - accuracy: 0.6364 - val_loss: 1.9182 - val_accuracy: 0.7185 - 4s/epoch - 4ms/step\n",
            "Epoch 4/50\n",
            "1000/1000 - 4s - loss: 1.7960 - accuracy: 0.7180 - val_loss: 1.6054 - val_accuracy: 0.7835 - 4s/epoch - 4ms/step\n",
            "Epoch 5/50\n",
            "1000/1000 - 4s - loss: 1.4484 - accuracy: 0.7608 - val_loss: 1.2138 - val_accuracy: 0.8153 - 4s/epoch - 4ms/step\n",
            "Epoch 6/50\n",
            "1000/1000 - 4s - loss: 1.1016 - accuracy: 0.7821 - val_loss: 0.9015 - val_accuracy: 0.8327 - 4s/epoch - 4ms/step\n",
            "Epoch 7/50\n",
            "1000/1000 - 4s - loss: 0.8681 - accuracy: 0.7997 - val_loss: 0.7133 - val_accuracy: 0.8483 - 4s/epoch - 4ms/step\n",
            "Epoch 8/50\n",
            "1000/1000 - 4s - loss: 0.7309 - accuracy: 0.8143 - val_loss: 0.6009 - val_accuracy: 0.8617 - 4s/epoch - 4ms/step\n",
            "Epoch 9/50\n",
            "1000/1000 - 4s - loss: 0.6462 - accuracy: 0.8275 - val_loss: 0.5288 - val_accuracy: 0.8715 - 4s/epoch - 4ms/step\n",
            "Epoch 10/50\n",
            "1000/1000 - 4s - loss: 0.5892 - accuracy: 0.8389 - val_loss: 0.4789 - val_accuracy: 0.8822 - 4s/epoch - 4ms/step\n",
            "Epoch 11/50\n",
            "1000/1000 - 4s - loss: 0.5483 - accuracy: 0.8465 - val_loss: 0.4426 - val_accuracy: 0.8895 - 4s/epoch - 4ms/step\n",
            "Epoch 12/50\n",
            "1000/1000 - 4s - loss: 0.5177 - accuracy: 0.8534 - val_loss: 0.4151 - val_accuracy: 0.8943 - 4s/epoch - 4ms/step\n",
            "Epoch 13/50\n",
            "1000/1000 - 4s - loss: 0.4935 - accuracy: 0.8593 - val_loss: 0.3936 - val_accuracy: 0.8963 - 4s/epoch - 4ms/step\n",
            "Epoch 14/50\n",
            "1000/1000 - 4s - loss: 0.4741 - accuracy: 0.8637 - val_loss: 0.3761 - val_accuracy: 0.8988 - 4s/epoch - 4ms/step\n",
            "Epoch 15/50\n",
            "1000/1000 - 4s - loss: 0.4581 - accuracy: 0.8678 - val_loss: 0.3620 - val_accuracy: 0.9003 - 4s/epoch - 4ms/step\n",
            "Epoch 16/50\n",
            "1000/1000 - 4s - loss: 0.4447 - accuracy: 0.8714 - val_loss: 0.3500 - val_accuracy: 0.9030 - 4s/epoch - 4ms/step\n",
            "Epoch 17/50\n",
            "1000/1000 - 5s - loss: 0.4333 - accuracy: 0.8749 - val_loss: 0.3401 - val_accuracy: 0.9050 - 5s/epoch - 5ms/step\n",
            "Epoch 18/50\n",
            "1000/1000 - 4s - loss: 0.4235 - accuracy: 0.8772 - val_loss: 0.3316 - val_accuracy: 0.9065 - 4s/epoch - 4ms/step\n",
            "Epoch 19/50\n",
            "1000/1000 - 4s - loss: 0.4149 - accuracy: 0.8796 - val_loss: 0.3242 - val_accuracy: 0.9083 - 4s/epoch - 4ms/step\n",
            "Epoch 20/50\n",
            "1000/1000 - 4s - loss: 0.4073 - accuracy: 0.8824 - val_loss: 0.3175 - val_accuracy: 0.9110 - 4s/epoch - 4ms/step\n",
            "Epoch 21/50\n",
            "1000/1000 - 4s - loss: 0.4004 - accuracy: 0.8841 - val_loss: 0.3117 - val_accuracy: 0.9122 - 4s/epoch - 4ms/step\n",
            "Epoch 22/50\n",
            "1000/1000 - 4s - loss: 0.3943 - accuracy: 0.8855 - val_loss: 0.3067 - val_accuracy: 0.9130 - 4s/epoch - 4ms/step\n",
            "Epoch 23/50\n",
            "1000/1000 - 4s - loss: 0.3888 - accuracy: 0.8871 - val_loss: 0.3021 - val_accuracy: 0.9147 - 4s/epoch - 4ms/step\n",
            "Epoch 24/50\n",
            "1000/1000 - 4s - loss: 0.3838 - accuracy: 0.8882 - val_loss: 0.2979 - val_accuracy: 0.9165 - 4s/epoch - 4ms/step\n",
            "Epoch 25/50\n",
            "1000/1000 - 4s - loss: 0.3791 - accuracy: 0.8901 - val_loss: 0.2941 - val_accuracy: 0.9173 - 4s/epoch - 4ms/step\n",
            "Epoch 26/50\n",
            "1000/1000 - 5s - loss: 0.3748 - accuracy: 0.8911 - val_loss: 0.2909 - val_accuracy: 0.9185 - 5s/epoch - 5ms/step\n",
            "Epoch 27/50\n",
            "1000/1000 - 4s - loss: 0.3708 - accuracy: 0.8923 - val_loss: 0.2877 - val_accuracy: 0.9187 - 4s/epoch - 4ms/step\n",
            "Epoch 28/50\n",
            "1000/1000 - 4s - loss: 0.3671 - accuracy: 0.8937 - val_loss: 0.2845 - val_accuracy: 0.9193 - 4s/epoch - 4ms/step\n",
            "Epoch 29/50\n",
            "1000/1000 - 4s - loss: 0.3636 - accuracy: 0.8947 - val_loss: 0.2817 - val_accuracy: 0.9203 - 4s/epoch - 4ms/step\n",
            "Epoch 30/50\n",
            "1000/1000 - 4s - loss: 0.3603 - accuracy: 0.8956 - val_loss: 0.2793 - val_accuracy: 0.9212 - 4s/epoch - 4ms/step\n",
            "Epoch 31/50\n",
            "1000/1000 - 4s - loss: 0.3572 - accuracy: 0.8964 - val_loss: 0.2768 - val_accuracy: 0.9213 - 4s/epoch - 4ms/step\n",
            "Epoch 32/50\n",
            "1000/1000 - 4s - loss: 0.3543 - accuracy: 0.8972 - val_loss: 0.2747 - val_accuracy: 0.9220 - 4s/epoch - 4ms/step\n",
            "Epoch 33/50\n",
            "1000/1000 - 4s - loss: 0.3515 - accuracy: 0.8984 - val_loss: 0.2724 - val_accuracy: 0.9218 - 4s/epoch - 4ms/step\n",
            "Epoch 34/50\n",
            "1000/1000 - 4s - loss: 0.3488 - accuracy: 0.8989 - val_loss: 0.2707 - val_accuracy: 0.9233 - 4s/epoch - 4ms/step\n",
            "Epoch 35/50\n",
            "1000/1000 - 4s - loss: 0.3462 - accuracy: 0.8998 - val_loss: 0.2685 - val_accuracy: 0.9242 - 4s/epoch - 4ms/step\n",
            "Epoch 36/50\n",
            "1000/1000 - 4s - loss: 0.3438 - accuracy: 0.9007 - val_loss: 0.2667 - val_accuracy: 0.9250 - 4s/epoch - 4ms/step\n",
            "Epoch 37/50\n",
            "1000/1000 - 5s - loss: 0.3414 - accuracy: 0.9016 - val_loss: 0.2649 - val_accuracy: 0.9252 - 5s/epoch - 5ms/step\n",
            "Epoch 38/50\n",
            "1000/1000 - 4s - loss: 0.3392 - accuracy: 0.9023 - val_loss: 0.2632 - val_accuracy: 0.9270 - 4s/epoch - 4ms/step\n",
            "Epoch 39/50\n",
            "1000/1000 - 4s - loss: 0.3369 - accuracy: 0.9029 - val_loss: 0.2615 - val_accuracy: 0.9273 - 4s/epoch - 4ms/step\n",
            "Epoch 40/50\n",
            "1000/1000 - 4s - loss: 0.3349 - accuracy: 0.9036 - val_loss: 0.2601 - val_accuracy: 0.9282 - 4s/epoch - 4ms/step\n",
            "Epoch 41/50\n",
            "1000/1000 - 4s - loss: 0.3328 - accuracy: 0.9043 - val_loss: 0.2587 - val_accuracy: 0.9283 - 4s/epoch - 4ms/step\n",
            "Epoch 42/50\n",
            "1000/1000 - 4s - loss: 0.3308 - accuracy: 0.9050 - val_loss: 0.2573 - val_accuracy: 0.9283 - 4s/epoch - 4ms/step\n",
            "Epoch 43/50\n",
            "1000/1000 - 4s - loss: 0.3289 - accuracy: 0.9053 - val_loss: 0.2556 - val_accuracy: 0.9293 - 4s/epoch - 4ms/step\n",
            "Epoch 44/50\n",
            "1000/1000 - 4s - loss: 0.3270 - accuracy: 0.9059 - val_loss: 0.2545 - val_accuracy: 0.9285 - 4s/epoch - 4ms/step\n",
            "Epoch 45/50\n",
            "1000/1000 - 4s - loss: 0.3251 - accuracy: 0.9066 - val_loss: 0.2530 - val_accuracy: 0.9295 - 4s/epoch - 4ms/step\n",
            "Epoch 46/50\n",
            "1000/1000 - 4s - loss: 0.3234 - accuracy: 0.9069 - val_loss: 0.2516 - val_accuracy: 0.9300 - 4s/epoch - 4ms/step\n",
            "Epoch 47/50\n",
            "1000/1000 - 4s - loss: 0.3217 - accuracy: 0.9075 - val_loss: 0.2505 - val_accuracy: 0.9298 - 4s/epoch - 4ms/step\n",
            "Epoch 48/50\n",
            "1000/1000 - 5s - loss: 0.3200 - accuracy: 0.9081 - val_loss: 0.2495 - val_accuracy: 0.9298 - 5s/epoch - 5ms/step\n",
            "Epoch 49/50\n",
            "1000/1000 - 4s - loss: 0.3184 - accuracy: 0.9085 - val_loss: 0.2480 - val_accuracy: 0.9307 - 4s/epoch - 4ms/step\n",
            "Epoch 50/50\n",
            "1000/1000 - 4s - loss: 0.3167 - accuracy: 0.9091 - val_loss: 0.2471 - val_accuracy: 0.9303 - 4s/epoch - 4ms/step\n"
          ]
        },
        {
          "output_type": "display_data",
          "data": {
            "text/plain": [
              "<Figure size 640x480 with 1 Axes>"
            ],
            "image/png": "[encoded data removed]"
          },
          "metadata": {}
        },
        {
          "output_type": "stream",
          "name": "stdout",
          "text": [
            "================================================================================\n",
            "Assesing Test dataset...\n",
            "================================================================================\n",
            "Test loss: 0.2945532202720642\n",
            "Test accuracy: 0.9175999760627747\n"
          ]
        }
      ],
      "source": [
        "# Defina los hiperparámetros\n",
        "batch_size = 54\n",
        "epochs = 50\n",
        "\n",
        "### *No* modifique las siguientes líneas ###\n",
        "\n",
        "# No hay tasa de aprendizaje porque estamos usando los valores recomendados\n",
        "# para el optimizador Adadelta. Más información aquí:\n",
        "# https://keras.io/optimizers/\n",
        "\n",
        "# Necesitamos compilar nuestro modelo\n",
        "model.compile(loss='categorical_crossentropy',\n",
        "              optimizer='Adadelta',\n",
        "              metrics=['accuracy'])\n",
        "\n",
        "# Entrenar\n",
        "logs = model.fit(x_train, y_train,\n",
        "                 batch_size=batch_size,\n",
        "                 epochs=epochs,\n",
        "                 verbose=2,\n",
        "                 validation_split=0.1)\n",
        "\n",
        "# Graficar losses y el accuracy\n",
        "fig, ax = plt.subplots(1,1)\n",
        "\n",
        "pd.DataFrame(logs.history).plot(ax=ax)\n",
        "ax.grid(linestyle='dotted')\n",
        "ax.legend()\n",
        "\n",
        "plt.show()\n",
        "\n",
        "# Evaluar el rendimiento\n",
        "print('='*80)\n",
        "print('Assesing Test dataset...')\n",
        "print('='*80)\n",
        "\n",
        "score = model.evaluate(x_test, y_test, verbose=0)\n",
        "print('Test loss:', score[0])\n",
        "print('Test accuracy:', score[1])"
      ]
    },
    {
      "cell_type": "markdown",
      "metadata": {
        "id": "UptQXC8kktIR"
      },
      "source": [
        "## ¿Deberíamos usar Max-Pooling?\n",
        "\n",
        "Recientemente se ha discutido si max-pooling es una buena solución para reducir la cantidad de datos entre capas de una red. Algunos enfoques recientes muestran que se puede conseguir un rendimiento similar, y a veces mejor, utilizando convoluciones con strides mayores que 1.\n",
        "\n",
        "\n",
        "> Deshacerse de pooling. A mucha gente no le gusta la operación de pooling y cree que se puede prescindir de ella. Por ejemplo, [Striving for Simplicity: The All Convolutional Net](http://arxiv.org/abs/1412.6806) propone descartar la capa de pooling en favor de una arquitectura que sólo conste de capas CONV repetidas. Para reducir el tamaño de la representación, sugieren utilizar un stride mayor en la capa CONV de vez en cuando. También se ha descubierto que descartar las capas de pooling es importante para entrenar buenos modelos generativos, como los autoencoders variacionales (VAE) o las redes generativas adversariales (GAN). Parece probable que las arquitecturas futuras tengan muy pocas o ninguna capa de pooling.\n",
        "\n",
        "[source](http://cs231n.github.io/convolutional-networks/#pool)\n",
        "\n",
        "\n",
        "### Parte VI: Implemente una Convolutional Network sin Max-Pooling\n",
        "\n",
        "Implemente una Convolutional Neural Network sin capas de pooling:\n",
        "\n",
        "<img src=\"https://raw.githubusercontent.com/vicolab/neural-network-intro/master/3-convnet/resources/mnist_net2.png\" alt=\"CNN\" width=\"1280\">\n",
        "\n",
        "<div class=\"alert alert-success\">\n",
        "<strong>Tarea:</strong> Replique la red que construimos anteriormente (`net_1()`), pero esta vez:\n",
        "<ul>\n",
        "  <li>Remueva la capa de max pooling y añada un stride=2 al segundo bloque de convolución.\n",
        "  </li>\n",
        "</ul>\n",
        "</div>\n",
        "\n",
        "Observación: vea [Conv2D](https://keras.io/layers/convolutional/)\n",
        "      \n"
      ]
    },
    {
      "cell_type": "code",
      "execution_count": 11,
      "metadata": {
        "id": "2wVic-_qktIS"
      },
      "outputs": [],
      "source": [
        "def net_2(sample_shape, nb_classes):\n",
        "    # Defina la entrada de la red para que tenga la dimensión `sample_shape\n",
        "    input_x = None\n",
        "\n",
        "    # Cree aquí las conexiones internas de la red\n",
        "    input_x = Input(shape=sample_shape)\n",
        "    x = Conv2D(32, (3, 3), strides=(1, 1), padding='same', activation='relu')(input_x)\n",
        "    x = Conv2D(64, (3, 3), strides=(1, 1), padding='same', activation='relu')(x)\n",
        "    x = Flatten()(x)\n",
        "    probabilities = Dense(nb_classes, activation='softmax')(x)\n",
        "\n",
        "    # Defina la salida\n",
        "    model = Model(inputs=input_x, outputs=probabilities)\n",
        "\n",
        "    return model"
      ]
    },
    {
      "cell_type": "markdown",
      "metadata": {
        "id": "rOvZlEonktIS"
      },
      "source": [
        "<div class=\"alert alert-info\">\n",
        "  <strong>En el siguiente fragmento de códigol:</strong>\n",
        "<ul>\n",
        "  <li>Crearemos una red utilizando la función que acabamos de implementar</li>\n",
        "  <li>Mostraremos un resumen de la red</li>\n",
        "</ul>\n",
        "</div>"
      ]
    },
    {
      "cell_type": "code",
      "execution_count": 12,
      "metadata": {
        "id": "w2HVQgdxktIS",
        "colab": {
          "base_uri": "https://localhost:8080/"
        },
        "outputId": "a7ba0211-4863-4797-e9eb-a518d0057998"
      },
      "outputs": [
        {
          "output_type": "stream",
          "name": "stdout",
          "text": [
            "Model: \"model_1\"\n",
            "_________________________________________________________________\n",
            " Layer (type)                Output Shape              Param #   \n",
            "=================================================================\n",
            " input_2 (InputLayer)        [(None, 28, 28, 1)]       0         \n",
            "                                                                 \n",
            " conv2d_2 (Conv2D)           (None, 28, 28, 32)        320       \n",
            "                                                                 \n",
            " conv2d_3 (Conv2D)           (None, 28, 28, 64)        18496     \n",
            "                                                                 \n",
            " flatten_1 (Flatten)         (None, 50176)             0         \n",
            "                                                                 \n",
            " dense_1 (Dense)             (None, 10)                501770    \n",
            "                                                                 \n",
            "=================================================================\n",
            "Total params: 520586 (1.99 MB)\n",
            "Trainable params: 520586 (1.99 MB)\n",
            "Non-trainable params: 0 (0.00 Byte)\n",
            "_________________________________________________________________\n"
          ]
        }
      ],
      "source": [
        "# Dimensión de la muestra\n",
        "sample_shape = x_train[0].shape\n",
        "\n",
        "# Construir una red\n",
        "model = net_2(sample_shape, 10)\n",
        "model.summary()"
      ]
    },
    {
      "cell_type": "markdown",
      "metadata": {
        "id": "-04NTnT-ktIS"
      },
      "source": [
        "### Parte VII: Definir los Hiperparámetros y Entrenar la Red Neuronal\n",
        "\n",
        "Como antes, necesitamos definir algunos hiperparámetros y entrenar la red. Siéntase libre de reutilizar los hiperparámetros que encontró antes.\n",
        "\n",
        "<div class=\"alert alert-success\">\n",
        "<strong>Tarea:</strong> Afinar los siguientes hiperparámetros hasta que `loss` y `val_loss` converjan en números bajos:\n",
        "<ul>\n",
        "  <li>Tamaño de batch</li>\n",
        "  <li>Número de epocas de entrenamiento</li>\n",
        "</ul>\n",
        "</div>"
      ]
    },
    {
      "cell_type": "code",
      "execution_count": 13,
      "metadata": {
        "id": "VLYQbj8dktIS",
        "colab": {
          "base_uri": "https://localhost:8080/",
          "height": 1000
        },
        "outputId": "c8ec7e42-2701-4f99-f268-823739649211"
      },
      "outputs": [
        {
          "output_type": "stream",
          "name": "stdout",
          "text": [
            "Epoch 1/50\n",
            "1000/1000 - 5s - loss: 2.1968 - accuracy: 0.4130 - val_loss: 2.0335 - val_accuracy: 0.7167 - 5s/epoch - 5ms/step\n",
            "Epoch 2/50\n",
            "1000/1000 - 4s - loss: 1.7321 - accuracy: 0.7517 - val_loss: 1.2916 - val_accuracy: 0.8333 - 4s/epoch - 4ms/step\n",
            "Epoch 3/50\n",
            "1000/1000 - 5s - loss: 0.9995 - accuracy: 0.8118 - val_loss: 0.6891 - val_accuracy: 0.8668 - 5s/epoch - 5ms/step\n",
            "Epoch 4/50\n",
            "1000/1000 - 4s - loss: 0.6596 - accuracy: 0.8390 - val_loss: 0.4984 - val_accuracy: 0.8863 - 4s/epoch - 4ms/step\n",
            "Epoch 5/50\n",
            "1000/1000 - 4s - loss: 0.5425 - accuracy: 0.8564 - val_loss: 0.4206 - val_accuracy: 0.8957 - 4s/epoch - 4ms/step\n",
            "Epoch 6/50\n",
            "1000/1000 - 5s - loss: 0.4861 - accuracy: 0.8674 - val_loss: 0.3788 - val_accuracy: 0.9025 - 5s/epoch - 5ms/step\n",
            "Epoch 7/50\n",
            "1000/1000 - 4s - loss: 0.4519 - accuracy: 0.8744 - val_loss: 0.3519 - val_accuracy: 0.9070 - 4s/epoch - 4ms/step\n",
            "Epoch 8/50\n",
            "1000/1000 - 4s - loss: 0.4283 - accuracy: 0.8798 - val_loss: 0.3332 - val_accuracy: 0.9088 - 4s/epoch - 4ms/step\n",
            "Epoch 9/50\n",
            "1000/1000 - 5s - loss: 0.4109 - accuracy: 0.8842 - val_loss: 0.3195 - val_accuracy: 0.9135 - 5s/epoch - 5ms/step\n",
            "Epoch 10/50\n",
            "1000/1000 - 4s - loss: 0.3975 - accuracy: 0.8874 - val_loss: 0.3088 - val_accuracy: 0.9130 - 4s/epoch - 4ms/step\n",
            "Epoch 11/50\n",
            "1000/1000 - 4s - loss: 0.3867 - accuracy: 0.8901 - val_loss: 0.3004 - val_accuracy: 0.9157 - 4s/epoch - 4ms/step\n",
            "Epoch 12/50\n",
            "1000/1000 - 5s - loss: 0.3778 - accuracy: 0.8929 - val_loss: 0.2933 - val_accuracy: 0.9173 - 5s/epoch - 5ms/step\n",
            "Epoch 13/50\n",
            "1000/1000 - 4s - loss: 0.3703 - accuracy: 0.8946 - val_loss: 0.2877 - val_accuracy: 0.9182 - 4s/epoch - 4ms/step\n",
            "Epoch 14/50\n",
            "1000/1000 - 4s - loss: 0.3638 - accuracy: 0.8966 - val_loss: 0.2828 - val_accuracy: 0.9205 - 4s/epoch - 4ms/step\n",
            "Epoch 15/50\n",
            "1000/1000 - 5s - loss: 0.3581 - accuracy: 0.8986 - val_loss: 0.2786 - val_accuracy: 0.9212 - 5s/epoch - 5ms/step\n",
            "Epoch 16/50\n",
            "1000/1000 - 4s - loss: 0.3531 - accuracy: 0.9001 - val_loss: 0.2749 - val_accuracy: 0.9223 - 4s/epoch - 4ms/step\n",
            "Epoch 17/50\n",
            "1000/1000 - 4s - loss: 0.3485 - accuracy: 0.9020 - val_loss: 0.2715 - val_accuracy: 0.9227 - 4s/epoch - 4ms/step\n",
            "Epoch 18/50\n",
            "1000/1000 - 5s - loss: 0.3444 - accuracy: 0.9029 - val_loss: 0.2686 - val_accuracy: 0.9230 - 5s/epoch - 5ms/step\n",
            "Epoch 19/50\n",
            "1000/1000 - 4s - loss: 0.3405 - accuracy: 0.9037 - val_loss: 0.2655 - val_accuracy: 0.9258 - 4s/epoch - 4ms/step\n",
            "Epoch 20/50\n",
            "1000/1000 - 4s - loss: 0.3370 - accuracy: 0.9049 - val_loss: 0.2632 - val_accuracy: 0.9252 - 4s/epoch - 4ms/step\n",
            "Epoch 21/50\n",
            "1000/1000 - 5s - loss: 0.3337 - accuracy: 0.9059 - val_loss: 0.2608 - val_accuracy: 0.9262 - 5s/epoch - 5ms/step\n",
            "Epoch 22/50\n",
            "1000/1000 - 4s - loss: 0.3306 - accuracy: 0.9069 - val_loss: 0.2587 - val_accuracy: 0.9263 - 4s/epoch - 4ms/step\n",
            "Epoch 23/50\n",
            "1000/1000 - 4s - loss: 0.3278 - accuracy: 0.9074 - val_loss: 0.2567 - val_accuracy: 0.9270 - 4s/epoch - 4ms/step\n",
            "Epoch 24/50\n",
            "1000/1000 - 5s - loss: 0.3250 - accuracy: 0.9080 - val_loss: 0.2548 - val_accuracy: 0.9275 - 5s/epoch - 5ms/step\n",
            "Epoch 25/50\n",
            "1000/1000 - 4s - loss: 0.3224 - accuracy: 0.9087 - val_loss: 0.2529 - val_accuracy: 0.9287 - 4s/epoch - 4ms/step\n",
            "Epoch 26/50\n",
            "1000/1000 - 4s - loss: 0.3199 - accuracy: 0.9091 - val_loss: 0.2513 - val_accuracy: 0.9288 - 4s/epoch - 4ms/step\n",
            "Epoch 27/50\n",
            "1000/1000 - 5s - loss: 0.3174 - accuracy: 0.9109 - val_loss: 0.2496 - val_accuracy: 0.9278 - 5s/epoch - 5ms/step\n",
            "Epoch 28/50\n",
            "1000/1000 - 4s - loss: 0.3151 - accuracy: 0.9112 - val_loss: 0.2480 - val_accuracy: 0.9297 - 4s/epoch - 4ms/step\n",
            "Epoch 29/50\n",
            "1000/1000 - 4s - loss: 0.3128 - accuracy: 0.9118 - val_loss: 0.2463 - val_accuracy: 0.9305 - 4s/epoch - 4ms/step\n",
            "Epoch 30/50\n",
            "1000/1000 - 4s - loss: 0.3106 - accuracy: 0.9124 - val_loss: 0.2448 - val_accuracy: 0.9303 - 4s/epoch - 4ms/step\n",
            "Epoch 31/50\n",
            "1000/1000 - 4s - loss: 0.3085 - accuracy: 0.9126 - val_loss: 0.2432 - val_accuracy: 0.9318 - 4s/epoch - 4ms/step\n",
            "Epoch 32/50\n",
            "1000/1000 - 4s - loss: 0.3065 - accuracy: 0.9135 - val_loss: 0.2418 - val_accuracy: 0.9313 - 4s/epoch - 4ms/step\n",
            "Epoch 33/50\n",
            "1000/1000 - 5s - loss: 0.3045 - accuracy: 0.9143 - val_loss: 0.2404 - val_accuracy: 0.9325 - 5s/epoch - 5ms/step\n",
            "Epoch 34/50\n",
            "1000/1000 - 4s - loss: 0.3026 - accuracy: 0.9146 - val_loss: 0.2389 - val_accuracy: 0.9325 - 4s/epoch - 4ms/step\n",
            "Epoch 35/50\n",
            "1000/1000 - 4s - loss: 0.3006 - accuracy: 0.9150 - val_loss: 0.2377 - val_accuracy: 0.9335 - 4s/epoch - 4ms/step\n",
            "Epoch 36/50\n",
            "1000/1000 - 4s - loss: 0.2988 - accuracy: 0.9158 - val_loss: 0.2363 - val_accuracy: 0.9335 - 4s/epoch - 4ms/step\n",
            "Epoch 37/50\n",
            "1000/1000 - 4s - loss: 0.2970 - accuracy: 0.9159 - val_loss: 0.2350 - val_accuracy: 0.9332 - 4s/epoch - 4ms/step\n",
            "Epoch 38/50\n",
            "1000/1000 - 4s - loss: 0.2952 - accuracy: 0.9169 - val_loss: 0.2339 - val_accuracy: 0.9338 - 4s/epoch - 4ms/step\n",
            "Epoch 39/50\n",
            "1000/1000 - 4s - loss: 0.2934 - accuracy: 0.9174 - val_loss: 0.2326 - val_accuracy: 0.9350 - 4s/epoch - 4ms/step\n",
            "Epoch 40/50\n",
            "1000/1000 - 4s - loss: 0.2917 - accuracy: 0.9181 - val_loss: 0.2315 - val_accuracy: 0.9357 - 4s/epoch - 4ms/step\n",
            "Epoch 41/50\n",
            "1000/1000 - 4s - loss: 0.2901 - accuracy: 0.9186 - val_loss: 0.2299 - val_accuracy: 0.9365 - 4s/epoch - 4ms/step\n",
            "Epoch 42/50\n",
            "1000/1000 - 4s - loss: 0.2884 - accuracy: 0.9190 - val_loss: 0.2287 - val_accuracy: 0.9363 - 4s/epoch - 4ms/step\n",
            "Epoch 43/50\n",
            "1000/1000 - 4s - loss: 0.2867 - accuracy: 0.9193 - val_loss: 0.2274 - val_accuracy: 0.9370 - 4s/epoch - 4ms/step\n",
            "Epoch 44/50\n",
            "1000/1000 - 4s - loss: 0.2851 - accuracy: 0.9202 - val_loss: 0.2265 - val_accuracy: 0.9372 - 4s/epoch - 4ms/step\n",
            "Epoch 45/50\n",
            "1000/1000 - 4s - loss: 0.2834 - accuracy: 0.9200 - val_loss: 0.2255 - val_accuracy: 0.9365 - 4s/epoch - 4ms/step\n",
            "Epoch 46/50\n",
            "1000/1000 - 4s - loss: 0.2818 - accuracy: 0.9208 - val_loss: 0.2240 - val_accuracy: 0.9380 - 4s/epoch - 4ms/step\n",
            "Epoch 47/50\n",
            "1000/1000 - 4s - loss: 0.2802 - accuracy: 0.9213 - val_loss: 0.2229 - val_accuracy: 0.9385 - 4s/epoch - 4ms/step\n",
            "Epoch 48/50\n",
            "1000/1000 - 4s - loss: 0.2787 - accuracy: 0.9214 - val_loss: 0.2217 - val_accuracy: 0.9378 - 4s/epoch - 4ms/step\n",
            "Epoch 49/50\n",
            "1000/1000 - 4s - loss: 0.2771 - accuracy: 0.9221 - val_loss: 0.2206 - val_accuracy: 0.9388 - 4s/epoch - 4ms/step\n",
            "Epoch 50/50\n",
            "1000/1000 - 4s - loss: 0.2756 - accuracy: 0.9223 - val_loss: 0.2194 - val_accuracy: 0.9390 - 4s/epoch - 4ms/step\n",
            "================================================================================\n",
            "Assesing Test dataset...\n",
            "================================================================================\n",
            "Test loss: 0.25859498977661133\n",
            "Test accuracy: 0.9258999824523926\n"
          ]
        },
        {
          "output_type": "display_data",
          "data": {
            "text/plain": [
              "<Figure size 640x480 with 1 Axes>"
            ],
            "image/png": "[encoded data removed]"
          },
          "metadata": {}
        }
      ],
      "source": [
        "# Defina los hiperparámetros\n",
        "batch_size = 54\n",
        "epochs = 50\n",
        "\n",
        "### *No* modifique las siguientes líneas ###\n",
        "\n",
        "# Necesitamos compilar nuestro modelo\n",
        "model.compile(loss='categorical_crossentropy',\n",
        "              optimizer='Adadelta',\n",
        "              metrics=['accuracy'])\n",
        "\n",
        "# Entrenar\n",
        "logs = model.fit(x_train, y_train,\n",
        "          batch_size=batch_size,\n",
        "          epochs=epochs,\n",
        "          verbose=2,\n",
        "          validation_split = 0.1,)\n",
        "\n",
        "# Graficar losses y el accuracy\n",
        "fig, ax = plt.subplots(1,1)\n",
        "\n",
        "pd.DataFrame(logs.history).plot(ax=ax)\n",
        "ax.grid(linestyle='dotted')\n",
        "ax.legend()\n",
        "fig.canvas.draw()\n",
        "\n",
        "\n",
        "# Evaluar el rendimiento\n",
        "print('='*80)\n",
        "print('Assesing Test dataset...')\n",
        "print('='*80)\n",
        "\n",
        "score = model.evaluate(x_test, y_test, verbose=0)\n",
        "print('Test loss:', score[0])\n",
        "print('Test accuracy:', score[1])"
      ]
    },
    {
      "cell_type": "markdown",
      "metadata": {
        "collapsed": true,
        "id": "jmw21JqbktIS"
      },
      "source": [
        "# CIFAR\n",
        "\n",
        "La siguiente explicación de Cifar 10 proviene de [official cifar page](https://www.cs.toronto.edu/~kriz/cifar.html):\n",
        "\n",
        "CIFAR-10 y CIFAR-100 son subconjuntos etiquetados del dataset compuesto por <a href=\"http://people.csail.mit.edu/torralba/tinyimages/\">80 millones de imágenes pequeñas</a>. Fueron recolectados por Alex Krizhevsky, Vinod Nair y Geoffrey Hinton.\n",
        "\n",
        "\n",
        "## CIFAR10 Dataset\n",
        "\n",
        "El dataset CIFAR-10 consta de 60000 imágenes en color de $32 \\times 32$, compuesta por 10 clases, con 6000 imágenes por clase. Hay 50000 imágenes de entrenamiento y 10000 imágenes de prueba.\n",
        "\n",
        "El dataset se divide en cinco batches de entrenamiento y un batch de prueba, cada uno con 10000 imágenes. El batch de prueba contiene exactamente 1000 imágenes seleccionadas al azar de cada clase. Los batches de entrenamiento contienen el resto de imágenes en orden aleatorio, pero algunos batches de entrenamiento pueden contener más imágenes de una clase que de otra. Entre ellos, los batches de entrenamiento contienen exactamente 5000 imágenes de cada clase.\n",
        "\n",
        "Aquí están las clases del dataset, así como 10 imágenes aleatorias de cada una:\n",
        "<table>\n",
        "    <tr>\n",
        "        <td class=\"cifar-class-name\">airplane</td>\n",
        "        <td><img src=\"https://www.cs.toronto.edu/~kriz/cifar-10-sample/airplane1.png\" class=\"cifar-sample\" /></td>\n",
        "        <td><img src=\"https://www.cs.toronto.edu/~kriz/cifar-10-sample/airplane2.png\" class=\"cifar-sample\" /></td>\n",
        "        <td><img src=\"https://www.cs.toronto.edu/~kriz/cifar-10-sample/airplane3.png\" class=\"cifar-sample\" /></td>\n",
        "        <td><img src=\"https://www.cs.toronto.edu/~kriz/cifar-10-sample/airplane4.png\" class=\"cifar-sample\" /></td>\n",
        "        <td><img src=\"https://www.cs.toronto.edu/~kriz/cifar-10-sample/airplane5.png\" class=\"cifar-sample\" /></td>\n",
        "        <td><img src=\"https://www.cs.toronto.edu/~kriz/cifar-10-sample/airplane6.png\" class=\"cifar-sample\" /></td>\n",
        "        <td><img src=\"https://www.cs.toronto.edu/~kriz/cifar-10-sample/airplane7.png\" class=\"cifar-sample\" /></td>\n",
        "        <td><img src=\"https://www.cs.toronto.edu/~kriz/cifar-10-sample/airplane8.png\" class=\"cifar-sample\" /></td>\n",
        "        <td><img src=\"https://www.cs.toronto.edu/~kriz/cifar-10-sample/airplane9.png\" class=\"cifar-sample\" /></td>\n",
        "        <td><img src=\"https://www.cs.toronto.edu/~kriz/cifar-10-sample/airplane10.png\" class=\"cifar-sample\" /></td>\n",
        "    </tr>\n",
        "    <tr>\n",
        "        <td class=\"cifar-class-name\">automobile</td>\n",
        "        <td><img src=\"https://www.cs.toronto.edu/~kriz/cifar-10-sample/automobile1.png\" class=\"cifar-sample\" /></td>\n",
        "        <td><img src=\"https://www.cs.toronto.edu/~kriz/cifar-10-sample/automobile2.png\" class=\"cifar-sample\" /></td>\n",
        "        <td><img src=\"https://www.cs.toronto.edu/~kriz/cifar-10-sample/automobile3.png\" class=\"cifar-sample\" /></td>\n",
        "        <td><img src=\"https://www.cs.toronto.edu/~kriz/cifar-10-sample/automobile4.png\" class=\"cifar-sample\" /></td>\n",
        "        <td><img src=\"https://www.cs.toronto.edu/~kriz/cifar-10-sample/automobile5.png\" class=\"cifar-sample\" /></td>\n",
        "        <td><img src=\"https://www.cs.toronto.edu/~kriz/cifar-10-sample/automobile6.png\" class=\"cifar-sample\" /></td>\n",
        "        <td><img src=\"https://www.cs.toronto.edu/~kriz/cifar-10-sample/automobile7.png\" class=\"cifar-sample\" /></td>\n",
        "        <td><img src=\"https://www.cs.toronto.edu/~kriz/cifar-10-sample/automobile8.png\" class=\"cifar-sample\" /></td>\n",
        "        <td><img src=\"https://www.cs.toronto.edu/~kriz/cifar-10-sample/automobile9.png\" class=\"cifar-sample\" /></td>\n",
        "        <td><img src=\"https://www.cs.toronto.edu/~kriz/cifar-10-sample/automobile10.png\" class=\"cifar-sample\" /></td>\n",
        "    </tr>\n",
        "    <tr>\n",
        "        <td class=\"cifar-class-name\">bird</td>\n",
        "        <td><img src=\"https://www.cs.toronto.edu/~kriz/cifar-10-sample/bird1.png\" class=\"cifar-sample\" /></td>\n",
        "        <td><img src=\"https://www.cs.toronto.edu/~kriz/cifar-10-sample/bird2.png\" class=\"cifar-sample\" /></td>\n",
        "        <td><img src=\"https://www.cs.toronto.edu/~kriz/cifar-10-sample/bird3.png\" class=\"cifar-sample\" /></td>\n",
        "        <td><img src=\"https://www.cs.toronto.edu/~kriz/cifar-10-sample/bird4.png\" class=\"cifar-sample\" /></td>\n",
        "        <td><img src=\"https://www.cs.toronto.edu/~kriz/cifar-10-sample/bird5.png\" class=\"cifar-sample\" /></td>\n",
        "        <td><img src=\"https://www.cs.toronto.edu/~kriz/cifar-10-sample/bird6.png\" class=\"cifar-sample\" /></td>\n",
        "        <td><img src=\"https://www.cs.toronto.edu/~kriz/cifar-10-sample/bird7.png\" class=\"cifar-sample\" /></td>\n",
        "        <td><img src=\"https://www.cs.toronto.edu/~kriz/cifar-10-sample/bird8.png\" class=\"cifar-sample\" /></td>\n",
        "        <td><img src=\"https://www.cs.toronto.edu/~kriz/cifar-10-sample/bird9.png\" class=\"cifar-sample\" /></td>\n",
        "        <td><img src=\"https://www.cs.toronto.edu/~kriz/cifar-10-sample/bird10.png\" class=\"cifar-sample\" /></td>\n",
        "    </tr>\n",
        "    <tr>\n",
        "        <td class=\"cifar-class-name\">cat</td>\n",
        "        <td><img src=\"https://www.cs.toronto.edu/~kriz/cifar-10-sample/cat1.png\" class=\"cifar-sample\" /></td>\n",
        "        <td><img src=\"https://www.cs.toronto.edu/~kriz/cifar-10-sample/cat2.png\" class=\"cifar-sample\" /></td>\n",
        "        <td><img src=\"https://www.cs.toronto.edu/~kriz/cifar-10-sample/cat3.png\" class=\"cifar-sample\" /></td>\n",
        "        <td><img src=\"https://www.cs.toronto.edu/~kriz/cifar-10-sample/cat4.png\" class=\"cifar-sample\" /></td>\n",
        "        <td><img src=\"https://www.cs.toronto.edu/~kriz/cifar-10-sample/cat5.png\" class=\"cifar-sample\" /></td>\n",
        "        <td><img src=\"https://www.cs.toronto.edu/~kriz/cifar-10-sample/cat6.png\" class=\"cifar-sample\" /></td>\n",
        "        <td><img src=\"https://www.cs.toronto.edu/~kriz/cifar-10-sample/cat7.png\" class=\"cifar-sample\" /></td>\n",
        "        <td><img src=\"https://www.cs.toronto.edu/~kriz/cifar-10-sample/cat8.png\" class=\"cifar-sample\" /></td>\n",
        "        <td><img src=\"https://www.cs.toronto.edu/~kriz/cifar-10-sample/cat9.png\" class=\"cifar-sample\" /></td>\n",
        "        <td><img src=\"https://www.cs.toronto.edu/~kriz/cifar-10-sample/cat10.png\" class=\"cifar-sample\" /></td>\n",
        "    </tr>\n",
        "    <tr>\n",
        "        <td class=\"cifar-class-name\">deer</td>\n",
        "        <td><img src=\"https://www.cs.toronto.edu/~kriz/cifar-10-sample/deer1.png\" class=\"cifar-sample\" /></td>\n",
        "        <td><img src=\"https://www.cs.toronto.edu/~kriz/cifar-10-sample/deer2.png\" class=\"cifar-sample\" /></td>\n",
        "        <td><img src=\"https://www.cs.toronto.edu/~kriz/cifar-10-sample/deer3.png\" class=\"cifar-sample\" /></td>\n",
        "        <td><img src=\"https://www.cs.toronto.edu/~kriz/cifar-10-sample/deer4.png\" class=\"cifar-sample\" /></td>\n",
        "        <td><img src=\"https://www.cs.toronto.edu/~kriz/cifar-10-sample/deer5.png\" class=\"cifar-sample\" /></td>\n",
        "        <td><img src=\"https://www.cs.toronto.edu/~kriz/cifar-10-sample/deer6.png\" class=\"cifar-sample\" /></td>\n",
        "        <td><img src=\"https://www.cs.toronto.edu/~kriz/cifar-10-sample/deer7.png\" class=\"cifar-sample\" /></td>\n",
        "        <td><img src=\"https://www.cs.toronto.edu/~kriz/cifar-10-sample/deer8.png\" class=\"cifar-sample\" /></td>\n",
        "        <td><img src=\"https://www.cs.toronto.edu/~kriz/cifar-10-sample/deer9.png\" class=\"cifar-sample\" /></td>\n",
        "        <td><img src=\"https://www.cs.toronto.edu/~kriz/cifar-10-sample/deer10.png\" class=\"cifar-sample\" /></td>\n",
        "    </tr>\n",
        "    <tr>\n",
        "        <td class=\"cifar-class-name\">dog</td>\n",
        "        <td><img src=\"https://www.cs.toronto.edu/~kriz/cifar-10-sample/dog1.png\" class=\"cifar-sample\" /></td>\n",
        "        <td><img src=\"https://www.cs.toronto.edu/~kriz/cifar-10-sample/dog2.png\" class=\"cifar-sample\" /></td>\n",
        "        <td><img src=\"https://www.cs.toronto.edu/~kriz/cifar-10-sample/dog3.png\" class=\"cifar-sample\" /></td>\n",
        "        <td><img src=\"https://www.cs.toronto.edu/~kriz/cifar-10-sample/dog4.png\" class=\"cifar-sample\" /></td>\n",
        "        <td><img src=\"https://www.cs.toronto.edu/~kriz/cifar-10-sample/dog5.png\" class=\"cifar-sample\" /></td>\n",
        "        <td><img src=\"https://www.cs.toronto.edu/~kriz/cifar-10-sample/dog6.png\" class=\"cifar-sample\" /></td>\n",
        "        <td><img src=\"https://www.cs.toronto.edu/~kriz/cifar-10-sample/dog7.png\" class=\"cifar-sample\" /></td>\n",
        "        <td><img src=\"https://www.cs.toronto.edu/~kriz/cifar-10-sample/dog8.png\" class=\"cifar-sample\" /></td>\n",
        "        <td><img src=\"https://www.cs.toronto.edu/~kriz/cifar-10-sample/dog9.png\" class=\"cifar-sample\" /></td>\n",
        "        <td><img src=\"https://www.cs.toronto.edu/~kriz/cifar-10-sample/dog10.png\" class=\"cifar-sample\" /></td>\n",
        "    </tr>\n",
        "    <tr>\n",
        "        <td class=\"cifar-class-name\">frog</td>\n",
        "        <td><img src=\"https://www.cs.toronto.edu/~kriz/cifar-10-sample/frog1.png\" class=\"cifar-sample\" /></td>\n",
        "        <td><img src=\"https://www.cs.toronto.edu/~kriz/cifar-10-sample/frog2.png\" class=\"cifar-sample\" /></td>\n",
        "        <td><img src=\"https://www.cs.toronto.edu/~kriz/cifar-10-sample/frog3.png\" class=\"cifar-sample\" /></td>\n",
        "        <td><img src=\"https://www.cs.toronto.edu/~kriz/cifar-10-sample/frog4.png\" class=\"cifar-sample\" /></td>\n",
        "        <td><img src=\"https://www.cs.toronto.edu/~kriz/cifar-10-sample/frog5.png\" class=\"cifar-sample\" /></td>\n",
        "        <td><img src=\"https://www.cs.toronto.edu/~kriz/cifar-10-sample/frog6.png\" class=\"cifar-sample\" /></td>\n",
        "        <td><img src=\"https://www.cs.toronto.edu/~kriz/cifar-10-sample/frog7.png\" class=\"cifar-sample\" /></td>\n",
        "        <td><img src=\"https://www.cs.toronto.edu/~kriz/cifar-10-sample/frog8.png\" class=\"cifar-sample\" /></td>\n",
        "        <td><img src=\"https://www.cs.toronto.edu/~kriz/cifar-10-sample/frog9.png\" class=\"cifar-sample\" /></td>\n",
        "        <td><img src=\"https://www.cs.toronto.edu/~kriz/cifar-10-sample/frog10.png\" class=\"cifar-sample\" /></td>\n",
        "    </tr>\n",
        "    <tr>\n",
        "        <td class=\"cifar-class-name\">horse</td>\n",
        "        <td><img src=\"https://www.cs.toronto.edu/~kriz/cifar-10-sample/horse1.png\" class=\"cifar-sample\" /></td>\n",
        "        <td><img src=\"https://www.cs.toronto.edu/~kriz/cifar-10-sample/horse2.png\" class=\"cifar-sample\" /></td>\n",
        "        <td><img src=\"https://www.cs.toronto.edu/~kriz/cifar-10-sample/horse3.png\" class=\"cifar-sample\" /></td>\n",
        "        <td><img src=\"https://www.cs.toronto.edu/~kriz/cifar-10-sample/horse4.png\" class=\"cifar-sample\" /></td>\n",
        "        <td><img src=\"https://www.cs.toronto.edu/~kriz/cifar-10-sample/horse5.png\" class=\"cifar-sample\" /></td>\n",
        "        <td><img src=\"https://www.cs.toronto.edu/~kriz/cifar-10-sample/horse6.png\" class=\"cifar-sample\" /></td>\n",
        "        <td><img src=\"https://www.cs.toronto.edu/~kriz/cifar-10-sample/horse7.png\" class=\"cifar-sample\" /></td>\n",
        "        <td><img src=\"https://www.cs.toronto.edu/~kriz/cifar-10-sample/horse8.png\" class=\"cifar-sample\" /></td>\n",
        "        <td><img src=\"https://www.cs.toronto.edu/~kriz/cifar-10-sample/horse9.png\" class=\"cifar-sample\" /></td>\n",
        "        <td><img src=\"https://www.cs.toronto.edu/~kriz/cifar-10-sample/horse10.png\" class=\"cifar-sample\" /></td>\n",
        "    </tr>\n",
        "    <tr>\n",
        "        <td class=\"cifar-class-name\">ship</td>\n",
        "        <td><img src=\"https://www.cs.toronto.edu/~kriz/cifar-10-sample/ship1.png\" class=\"cifar-sample\" /></td>\n",
        "        <td><img src=\"https://www.cs.toronto.edu/~kriz/cifar-10-sample/ship2.png\" class=\"cifar-sample\" /></td>\n",
        "        <td><img src=\"https://www.cs.toronto.edu/~kriz/cifar-10-sample/ship3.png\" class=\"cifar-sample\" /></td>\n",
        "        <td><img src=\"https://www.cs.toronto.edu/~kriz/cifar-10-sample/ship4.png\" class=\"cifar-sample\" /></td>\n",
        "        <td><img src=\"https://www.cs.toronto.edu/~kriz/cifar-10-sample/ship5.png\" class=\"cifar-sample\" /></td>\n",
        "        <td><img src=\"https://www.cs.toronto.edu/~kriz/cifar-10-sample/ship6.png\" class=\"cifar-sample\" /></td>\n",
        "        <td><img src=\"https://www.cs.toronto.edu/~kriz/cifar-10-sample/ship7.png\" class=\"cifar-sample\" /></td>\n",
        "        <td><img src=\"https://www.cs.toronto.edu/~kriz/cifar-10-sample/ship8.png\" class=\"cifar-sample\" /></td>\n",
        "        <td><img src=\"https://www.cs.toronto.edu/~kriz/cifar-10-sample/ship9.png\" class=\"cifar-sample\" /></td>\n",
        "        <td><img src=\"https://www.cs.toronto.edu/~kriz/cifar-10-sample/ship10.png\" class=\"cifar-sample\" /></td>\n",
        "    </tr>\n",
        "    <tr>\n",
        "        <td class=\"cifar-class-name\">truck</td>\n",
        "        <td><img src=\"https://www.cs.toronto.edu/~kriz/cifar-10-sample/truck1.png\" class=\"cifar-sample\" /></td>\n",
        "        <td><img src=\"https://www.cs.toronto.edu/~kriz/cifar-10-sample/truck2.png\" class=\"cifar-sample\" /></td>\n",
        "        <td><img src=\"https://www.cs.toronto.edu/~kriz/cifar-10-sample/truck3.png\" class=\"cifar-sample\" /></td>\n",
        "        <td><img src=\"https://www.cs.toronto.edu/~kriz/cifar-10-sample/truck4.png\" class=\"cifar-sample\" /></td>\n",
        "        <td><img src=\"https://www.cs.toronto.edu/~kriz/cifar-10-sample/truck5.png\" class=\"cifar-sample\" /></td>\n",
        "        <td><img src=\"https://www.cs.toronto.edu/~kriz/cifar-10-sample/truck6.png\" class=\"cifar-sample\" /></td>\n",
        "        <td><img src=\"https://www.cs.toronto.edu/~kriz/cifar-10-sample/truck7.png\" class=\"cifar-sample\" /></td>\n",
        "        <td><img src=\"https://www.cs.toronto.edu/~kriz/cifar-10-sample/truck8.png\" class=\"cifar-sample\" /></td>\n",
        "        <td><img src=\"https://www.cs.toronto.edu/~kriz/cifar-10-sample/truck9.png\" class=\"cifar-sample\" /></td>\n",
        "        <td><img src=\"https://www.cs.toronto.edu/~kriz/cifar-10-sample/truck10.png\" class=\"cifar-sample\" /></td>\n",
        "    </tr>\n",
        "</table>\n",
        "\n",
        "Las clases son completamente excluyentes. No hay solapamiento entre los automóviles y los camiones. \"Automóvil\" incluye sedans, todoterrenos y cosas de ese tipo. \"Camión\" incluye sólo los camiones grandes. Tampoco incluye las camionetas."
      ]
    },
    {
      "cell_type": "markdown",
      "metadata": {
        "id": "PGzKEXhTktIS"
      },
      "source": [
        "En el siguiente ejemplo cargaremos los datos de CIFAR10.\n",
        "\n",
        "* **input** $\\rightarrow$ 60000 muestras de 3072 vectores dimensionales.\n",
        "    * Aquí se presentan como matrices de $32 \\times 32 \\times 3$  $\\rightarrow$ Imágenes de color\n",
        "* **target** $\\rightarrow$ 60000 escalares que indican una clase de 0 a 9\n",
        "\n",
        "<div class=\"alert alert-info\">\n",
        "  <strong>En el siguiente código:</strong>\n",
        "<ul>\n",
        "  <li>Cargaremos el dataset CIFAR10</li>\n",
        "  <li>Graficaremos la 5ª muestra del conjunto de entrenamiento</li>\n",
        "</ul>\n",
        "</div>"
      ]
    },
    {
      "cell_type": "code",
      "execution_count": 14,
      "metadata": {
        "id": "UcsiXsiEktIS",
        "colab": {
          "base_uri": "https://localhost:8080/",
          "height": 778
        },
        "outputId": "19599224-6ce7-4f4c-ee74-6483df14df82"
      },
      "outputs": [
        {
          "output_type": "stream",
          "name": "stdout",
          "text": [
            "Downloading data from https://www.cs.toronto.edu/~kriz/cifar-10-python.tar.gz\n",
            "170498071/170498071 [==============================] - 4s 0us/step\n",
            "x_train shape: (50000, 32, 32, 3)\n",
            "50000 train samples\n",
            "10000 test samples\n",
            "Shape of x_train (50000, 32, 32, 3)\n",
            "Shape of y_train (50000, 1)\n",
            "Shape of x_test (50000, 32, 32, 3)\n",
            "Shape of y_test (50000, 1)\n"
          ]
        },
        {
          "output_type": "display_data",
          "data": {
            "text/plain": [
              "<Figure size 700x700 with 1 Axes>"
            ],
            "image/png": "[encoded data removed]"
          },
          "metadata": {}
        }
      ],
      "source": [
        "from keras.datasets import cifar10\n",
        "\n",
        "# Los datos divididos entre los conjuntos de entrenamiento y prueba\n",
        "(x_train, y_train), (x_test, y_test) = cifar10.load_data()\n",
        "\n",
        "print('x_train shape:', x_train.shape)\n",
        "print(x_train.shape[0], 'train samples')\n",
        "print(x_test.shape[0], 'test samples')\n",
        "\n",
        "target_2_class = {0:'airplane',\n",
        "                  1:'automobile',\n",
        "                  2:'bird',\n",
        "                  3:'cat',\n",
        "                  4:'deer',\n",
        "                  5:'dog',\n",
        "                  6:'frog',\n",
        "                  7:'horse',\n",
        "                  8:'ship',\n",
        "                  9:'truck'}\n",
        "\n",
        "# Código para graficar la 5ª muestra de entrenamiento.\n",
        "fig,ax1 = plt.subplots(1,1, figsize=(7,7))\n",
        "ax1.imshow(x_train[5])\n",
        "target = y_train[5][0]\n",
        "title = 'Target is {} - Class {}'.format(target_2_class[target],target )\n",
        "ax1.set_title(title)\n",
        "ax1.grid(which='Major')\n",
        "ax1.xaxis.set_major_locator(MaxNLocator(32))\n",
        "ax1.yaxis.set_major_locator(MaxNLocator(32))\n",
        "fig.canvas.draw()\n",
        "time.sleep(0.1)\n",
        "\n",
        "print('Shape of x_train {}'.format(x_train.shape))\n",
        "print('Shape of y_train {}'.format(y_train.shape))\n",
        "print('Shape of x_test {}'.format(x_train.shape))\n",
        "print('Shape of y_test {}'.format(y_train.shape))"
      ]
    },
    {
      "cell_type": "markdown",
      "metadata": {
        "id": "PQbX4D8SktIT"
      },
      "source": [
        "### Parte VIII: Codificación One-Hot para los Labels\n",
        "\n",
        "<div class=\"alert alert-success\">\n",
        "<strong>Tarea:</strong> Utilice la función `one_hot()` que creó anteriormente para codificar:\n",
        "<ul>\n",
        "  <li>`y_test`</li>\n",
        "  <li>`y_train`</li>\n",
        "</ul>\n",
        "</div>"
      ]
    },
    {
      "cell_type": "code",
      "execution_count": 15,
      "metadata": {
        "id": "lIv20dNDktIT",
        "colab": {
          "base_uri": "https://localhost:8080/"
        },
        "outputId": "304f078c-a8a1-43da-c09b-1bc112520dd0"
      },
      "outputs": [
        {
          "output_type": "stream",
          "name": "stdout",
          "text": [
            "Shape of x_train (50000, 32, 32, 3)\n",
            "Shape of y_train (50000, 10)\n",
            "Shape of x_test (50000, 32, 32, 3)\n",
            "Shape of y_test (50000, 10)\n"
          ]
        }
      ],
      "source": [
        "y_train = one_hot(y_train,10)\n",
        "y_test = one_hot(y_test,10)\n",
        "\n",
        "### *No* modifique las siguientes líneas ###\n",
        "# Imprima los tamaños de los datos (variables)\n",
        "print('Shape of x_train {}'.format(x_train.shape))\n",
        "print('Shape of y_train {}'.format(y_train.shape))\n",
        "print('Shape of x_test {}'.format(x_train.shape))\n",
        "print('Shape of y_test {}'.format(y_train.shape))"
      ]
    },
    {
      "cell_type": "markdown",
      "metadata": {
        "id": "faVclyzPktIU"
      },
      "source": [
        "### Parte IX: Normalizar las imágenes\n",
        "\n",
        "<div class=\"alert alert-success\">\n",
        "<strong>Tarea:</strong> Utilice la función `normalize_images()` que creó anteriormente para normalizar las imágenes en:\n",
        "<ul>\n",
        "  <li>`x_test`</li>\n",
        "  <li>`x_train`</li>\n",
        "</ul>\n",
        "</div>"
      ]
    },
    {
      "cell_type": "code",
      "execution_count": 16,
      "metadata": {
        "id": "_2zM9zfjktIU"
      },
      "outputs": [],
      "source": [
        "x_train = normalize_images(x_train)\n",
        "x_test = normalize_images(x_test)"
      ]
    },
    {
      "cell_type": "markdown",
      "metadata": {
        "id": "FCoznG0xktIU"
      },
      "source": [
        "### Parte X: Cree su CNN para CIFAR10\n",
        "\n",
        "<div class=\"alert alert-success\">\n",
        "  <strong>Tarea:</strong> Cree un modelo de red neuronal para entrenar CIFAR usando lo que hemos aprendido hasta ahora.\n",
        "<ul>\n",
        "  <li>Cree una nueva red utilizando `net_1()` o `net_2()`</li>\n",
        "  <li>Mostrar un resumen de la red</li>.\n",
        "  <li>Compilar el modelo utilizando `Adadelta`, `Adagrad`, o `Adam` como su optimizador</li>\n",
        "</ul>\n",
        "Parte del código ya está rellenado, así que modifique lo que necesite.\n",
        "</div>"
      ]
    },
    {
      "cell_type": "code",
      "execution_count": 17,
      "metadata": {
        "id": "PJNDbpQaktIU",
        "colab": {
          "base_uri": "https://localhost:8080/"
        },
        "outputId": "b3c83621-014b-4bc3-b4c1-072b5f558f90"
      },
      "outputs": [
        {
          "output_type": "stream",
          "name": "stdout",
          "text": [
            "Model: \"model_2\"\n",
            "_________________________________________________________________\n",
            " Layer (type)                Output Shape              Param #   \n",
            "=================================================================\n",
            " input_3 (InputLayer)        [(None, 32, 32, 3)]       0         \n",
            "                                                                 \n",
            " conv2d_4 (Conv2D)           (None, 32, 32, 32)        896       \n",
            "                                                                 \n",
            " conv2d_5 (Conv2D)           (None, 32, 32, 64)        18496     \n",
            "                                                                 \n",
            " flatten_2 (Flatten)         (None, 65536)             0         \n",
            "                                                                 \n",
            " dense_2 (Dense)             (None, 10)                655370    \n",
            "                                                                 \n",
            "=================================================================\n",
            "Total params: 674762 (2.57 MB)\n",
            "Trainable params: 674762 (2.57 MB)\n",
            "Non-trainable params: 0 (0.00 Byte)\n",
            "_________________________________________________________________\n"
          ]
        }
      ],
      "source": [
        "# Dimensionalidad de la muestra\n",
        "sample_shape = x_train[0].shape\n",
        "\n",
        "# Construcción de la red\n",
        "model = net_2(sample_shape,10)\n",
        "model.summary()\n",
        "\n",
        "# Necesitamos compilar nuestro modelo de red neuronal\n",
        "model.compile(loss='categorical_crossentropy',\n",
        "              optimizer='Adam',\n",
        "              metrics=['accuracy'])"
      ]
    },
    {
      "cell_type": "markdown",
      "metadata": {
        "id": "AEmGaoTvktIU"
      },
      "source": [
        "### Parte XI: Entrene su modelo\n",
        "\n",
        "<div class=\"alert alert-success\">\n",
        "  <strong>Tarea:</strong> : Entrenar el modelo creado en la celda anterior en CIFAR10.\n",
        "  <ul>\n",
        "  <li>Entrene la red utilizando `epochs = 30`</li>\n",
        "  <li>Entrene la red utilizando un `batch_size = 128`</li>\n",
        "  <li>Utilice `validation_split = 0.2` cuando llame a `fit()`</li>\n",
        "  <li>Planifica las pérdidas y la precisión</li>\n",
        "  <li>Evaluar el rendimiento en el conjunto de pruebas</li>.\n",
        "</ul>\n",
        "Le recomendamos que no copie y pegue de las celdas anteriores, sino que reescriba el código usted mismo. Siempre puedes echar un vistazo a las celdas anteriores si no estás seguro de lo que debes hacer.\n",
        "</div>"
      ]
    },
    {
      "cell_type": "code",
      "execution_count": 18,
      "metadata": {
        "id": "3sR7lW2rktIV",
        "colab": {
          "base_uri": "https://localhost:8080/",
          "height": 1000
        },
        "outputId": "0d781afd-52b3-4dd5-f7a4-8f824f814f90"
      },
      "outputs": [
        {
          "output_type": "stream",
          "name": "stdout",
          "text": [
            "Epoch 1/30\n",
            "313/313 - 6s - loss: 2.2913 - accuracy: 0.1292 - val_loss: 2.2733 - val_accuracy: 0.1440 - 6s/epoch - 18ms/step\n",
            "Epoch 2/30\n",
            "313/313 - 3s - loss: 2.2587 - accuracy: 0.1744 - val_loss: 2.2429 - val_accuracy: 0.2088 - 3s/epoch - 9ms/step\n",
            "Epoch 3/30\n",
            "313/313 - 3s - loss: 2.2266 - accuracy: 0.2298 - val_loss: 2.2098 - val_accuracy: 0.2223 - 3s/epoch - 10ms/step\n",
            "Epoch 4/30\n",
            "313/313 - 3s - loss: 2.1929 - accuracy: 0.2429 - val_loss: 2.1767 - val_accuracy: 0.2582 - 3s/epoch - 11ms/step\n",
            "Epoch 5/30\n",
            "313/313 - 3s - loss: 2.1590 - accuracy: 0.2662 - val_loss: 2.1428 - val_accuracy: 0.2711 - 3s/epoch - 9ms/step\n",
            "Epoch 6/30\n",
            "313/313 - 3s - loss: 2.1247 - accuracy: 0.2769 - val_loss: 2.1099 - val_accuracy: 0.2900 - 3s/epoch - 9ms/step\n",
            "Epoch 7/30\n",
            "313/313 - 3s - loss: 2.0923 - accuracy: 0.2919 - val_loss: 2.0801 - val_accuracy: 0.2947 - 3s/epoch - 10ms/step\n",
            "Epoch 8/30\n",
            "313/313 - 3s - loss: 2.0642 - accuracy: 0.3015 - val_loss: 2.0549 - val_accuracy: 0.3007 - 3s/epoch - 10ms/step\n",
            "Epoch 9/30\n",
            "313/313 - 3s - loss: 2.0403 - accuracy: 0.3080 - val_loss: 2.0339 - val_accuracy: 0.3074 - 3s/epoch - 10ms/step\n",
            "Epoch 10/30\n",
            "313/313 - 3s - loss: 2.0202 - accuracy: 0.3149 - val_loss: 2.0158 - val_accuracy: 0.3114 - 3s/epoch - 10ms/step\n",
            "Epoch 11/30\n",
            "313/313 - 3s - loss: 2.0026 - accuracy: 0.3205 - val_loss: 2.0001 - val_accuracy: 0.3163 - 3s/epoch - 10ms/step\n",
            "Epoch 12/30\n",
            "313/313 - 3s - loss: 1.9870 - accuracy: 0.3268 - val_loss: 1.9862 - val_accuracy: 0.3209 - 3s/epoch - 10ms/step\n",
            "Epoch 13/30\n",
            "313/313 - 3s - loss: 1.9735 - accuracy: 0.3302 - val_loss: 1.9741 - val_accuracy: 0.3270 - 3s/epoch - 9ms/step\n",
            "Epoch 14/30\n",
            "313/313 - 3s - loss: 1.9612 - accuracy: 0.3340 - val_loss: 1.9626 - val_accuracy: 0.3284 - 3s/epoch - 10ms/step\n",
            "Epoch 15/30\n",
            "313/313 - 3s - loss: 1.9503 - accuracy: 0.3376 - val_loss: 1.9527 - val_accuracy: 0.3320 - 3s/epoch - 10ms/step\n",
            "Epoch 16/30\n",
            "313/313 - 3s - loss: 1.9402 - accuracy: 0.3406 - val_loss: 1.9439 - val_accuracy: 0.3356 - 3s/epoch - 11ms/step\n",
            "Epoch 17/30\n",
            "313/313 - 3s - loss: 1.9309 - accuracy: 0.3442 - val_loss: 1.9350 - val_accuracy: 0.3408 - 3s/epoch - 10ms/step\n",
            "Epoch 18/30\n",
            "313/313 - 3s - loss: 1.9221 - accuracy: 0.3469 - val_loss: 1.9277 - val_accuracy: 0.3421 - 3s/epoch - 9ms/step\n",
            "Epoch 19/30\n",
            "313/313 - 3s - loss: 1.9138 - accuracy: 0.3498 - val_loss: 1.9198 - val_accuracy: 0.3422 - 3s/epoch - 9ms/step\n",
            "Epoch 20/30\n",
            "313/313 - 3s - loss: 1.9064 - accuracy: 0.3510 - val_loss: 1.9129 - val_accuracy: 0.3464 - 3s/epoch - 10ms/step\n",
            "Epoch 21/30\n",
            "313/313 - 3s - loss: 1.8992 - accuracy: 0.3534 - val_loss: 1.9070 - val_accuracy: 0.3465 - 3s/epoch - 10ms/step\n",
            "Epoch 22/30\n",
            "313/313 - 3s - loss: 1.8925 - accuracy: 0.3562 - val_loss: 1.9009 - val_accuracy: 0.3481 - 3s/epoch - 9ms/step\n",
            "Epoch 23/30\n",
            "313/313 - 3s - loss: 1.8862 - accuracy: 0.3581 - val_loss: 1.8942 - val_accuracy: 0.3507 - 3s/epoch - 9ms/step\n",
            "Epoch 24/30\n",
            "313/313 - 3s - loss: 1.8800 - accuracy: 0.3600 - val_loss: 1.8891 - val_accuracy: 0.3517 - 3s/epoch - 10ms/step\n",
            "Epoch 25/30\n",
            "313/313 - 3s - loss: 1.8739 - accuracy: 0.3629 - val_loss: 1.8847 - val_accuracy: 0.3533 - 3s/epoch - 9ms/step\n",
            "Epoch 26/30\n",
            "313/313 - 3s - loss: 1.8685 - accuracy: 0.3645 - val_loss: 1.8780 - val_accuracy: 0.3571 - 3s/epoch - 9ms/step\n",
            "Epoch 27/30\n",
            "313/313 - 3s - loss: 1.8630 - accuracy: 0.3654 - val_loss: 1.8734 - val_accuracy: 0.3598 - 3s/epoch - 9ms/step\n",
            "Epoch 28/30\n",
            "313/313 - 3s - loss: 1.8578 - accuracy: 0.3667 - val_loss: 1.8685 - val_accuracy: 0.3593 - 3s/epoch - 11ms/step\n",
            "Epoch 29/30\n",
            "313/313 - 3s - loss: 1.8527 - accuracy: 0.3697 - val_loss: 1.8642 - val_accuracy: 0.3612 - 3s/epoch - 9ms/step\n",
            "Epoch 30/30\n",
            "313/313 - 3s - loss: 1.8478 - accuracy: 0.3732 - val_loss: 1.8589 - val_accuracy: 0.3628 - 3s/epoch - 9ms/step\n",
            "================================================================================\n",
            "Assesing Test dataset...\n",
            "================================================================================\n",
            "Test loss: 1.8503451347351074\n",
            "Test accuracy: 0.3650999963283539\n"
          ]
        },
        {
          "output_type": "display_data",
          "data": {
            "text/plain": [
              "<Figure size 640x480 with 1 Axes>"
            ],
            "image/png": "[encoded data removed]"
          },
          "metadata": {}
        }
      ],
      "source": [
        "# Defina los hiperparámetros\n",
        "batch_size = 128\n",
        "epochs = 30\n",
        "\n",
        "### *No* modifique las siguientes líneas ###\n",
        "\n",
        "# Necesitamos compilar nuestro modelo\n",
        "model.compile(loss='categorical_crossentropy',\n",
        "              optimizer='Adadelta',\n",
        "              metrics=['accuracy'])\n",
        "\n",
        "# Entrenar\n",
        "logs = model.fit(x_train, y_train,\n",
        "          batch_size=batch_size,\n",
        "          epochs=epochs,\n",
        "          verbose=2,\n",
        "          validation_split = 0.2,)\n",
        "\n",
        "# Graficar losses y el accuracy\n",
        "fig, ax = plt.subplots(1,1)\n",
        "\n",
        "pd.DataFrame(logs.history).plot(ax=ax)\n",
        "ax.grid(linestyle='dotted')\n",
        "ax.legend()\n",
        "fig.canvas.draw()\n",
        "\n",
        "\n",
        "# Evaluar el rendimiento\n",
        "print('='*80)\n",
        "print('Assesing Test dataset...')\n",
        "print('='*80)\n",
        "\n",
        "score = model.evaluate(x_test, y_test, verbose=0)\n",
        "print('Test loss:', score[0])\n",
        "print('Test accuracy:', score[1])"
      ]
    },
    {
      "cell_type": "markdown",
      "metadata": {
        "id": "x8Lm7Ie0ktIV"
      },
      "source": [
        "### Temas de reflexión\n",
        "\n",
        "* ¿Qué modelo funciona mejor?\n",
        "* ¿Qué optimizador funciona mejor?\n",
        "* ¿Existe alguna evidencia de overfitting?\n",
        "* ¿Cómo podemos mejorar aún más el rendimiento?"
      ]
    }
  ],
  "metadata": {
    "kernelspec": {
      "display_name": "Python 3",
      "language": "python",
      "name": "python3"
    },
    "language_info": {
      "codemirror_mode": {
        "name": "ipython",
        "version": 3
      },
      "file_extension": ".py",
      "mimetype": "text/x-python",
      "name": "python",
      "nbconvert_exporter": "python",
      "pygments_lexer": "ipython3",
      "version": "3.8.3"
    },
    "colab": {
      "provenance": [],
      "include_colab_link": true
    },
    "accelerator": "GPU",
    "gpuClass": "standard"
  },
  "nbformat": 4,
  "nbformat_minor": 0
}